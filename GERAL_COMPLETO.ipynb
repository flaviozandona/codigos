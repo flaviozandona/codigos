{
  "cells": [
    {
      "cell_type": "code",
      "execution_count": null,
      "metadata": {
        "id": "5Blvksmackru"
      },
      "outputs": [],
      "source": [
        "estoque = [1200, 300, 800, 1500, 1900, 2750, 400, 20, 23, 70, 90, 80, 1100, 999, 900, 880, 870, 50, 1111, 120, 300, 450, 800]\n",
        "produtos = ['coca', 'pepsi', 'guarana', 'skol', 'brahma', 'agua', 'del valle', 'dolly', 'red bull', 'cachaça', 'vinho tinto', 'vodka', 'vinho branco', 'tequila', 'champagne', 'gin', 'guaracamp', 'matte', 'leite de castanha', 'leite', 'jurupinga', 'sprite', 'fanta']\n",
        "nivel_minimo = 50\n",
        "\n",
        "for x, qtde in enumerate(estoque):\n",
        "  if qtde <= nivel_minimo:\n",
        "    print('Alerta! O estoque de {} está em: {}'.format(produtos[x],estoque[x]))"
      ]
    },
    {
      "cell_type": "code",
      "execution_count": null,
      "metadata": {
        "id": "iL8HI1BHfVic"
      },
      "outputs": [],
      "source": [
        "meta = 1000\n",
        "vendas = [1500, 770, 2700]\n",
        "\n",
        "def bonus(venda):\n",
        "  if venda >= 2000:\n",
        "    bonus = venda * 15/100\n",
        "  elif venda >= 1000:\n",
        "    bonus = venda * 10/100\n",
        "  else:\n",
        "    bonus = 0\n",
        "  return bonus\n",
        "\n",
        "for i, v in enumerate(vendas):\n",
        "  print(f'Funcionário{i+1} -> bônus R$ {bonus(v):.2f}'.replace('.',','))"
      ]
    },
    {
      "cell_type": "code",
      "execution_count": null,
      "metadata": {
        "id": "aLpJIhBcS1QW"
      },
      "outputs": [],
      "source": [
        "a = 10\n",
        "b = 9\n",
        "c = 8\n",
        "\n",
        "if (a > b) or (a > c and b > c):\n",
        "  print('aqui')\n",
        "else:\n",
        "  print('ali')"
      ]
    },
    {
      "cell_type": "code",
      "execution_count": null,
      "metadata": {
        "id": "9Q773h6O5rPT"
      },
      "outputs": [],
      "source": [
        "meses = ['jan', 'fev', 'mar', 'abr', 'mai', 'jun', 'jul', 'ago', 'set', 'out', 'nov', 'dez']\n",
        "vendas_1sem = [25000, 29000, 22200, 17750, 15870, 19900]\n",
        "vendas_2sem = [19850, 20120, 17540, 15555, 49051, 9650]\n",
        "\n",
        "vendas_1sem.extend(vendas_2sem)\n",
        "print(vendas_1sem)\n",
        "\n",
        "melhor_mes = max(vendas_1sem)\n",
        "print(melhor_mes)\n",
        "pior_mes = min(vendas_1sem)\n",
        "print(pior_mes)\n",
        "i_melhor_mes = vendas_1sem.index(melhor_mes)\n",
        "print(i_melhor_mes)\n",
        "i_pior_mes = vendas_1sem.index(pior_mes)\n",
        "print(i_pior_mes)\n",
        "print('O melhor mês do ano foi \\033[1;31m{}\\033[0;0m com {:_.2f} vendas'.format(meses[i_melhor_mes].upper(),melhor_mes).replace('.',',').replace('_','.'))\n"
      ]
    },
    {
      "cell_type": "markdown",
      "metadata": {
        "id": "E1728Agb5xaP"
      },
      "source": [
        "#NEGRITO/COR/SOMBRA"
      ]
    },
    {
      "cell_type": "code",
      "execution_count": null,
      "metadata": {
        "id": "vaQauhiW5y9G"
      },
      "outputs": [],
      "source": [
        "#NEGRITO E CORES/SOMBRAS\n",
        "\n",
        "print(f'TESTE')\n",
        "print(f'\\033[1mTESTE\\033[0;0m')\n",
        "print(f'\\033[1;47mTESTE\\033[0;0m')"
      ]
    },
    {
      "cell_type": "markdown",
      "metadata": {
        "id": "OWU0rBN55xad"
      },
      "source": [
        "#DICIONÁRIO"
      ]
    },
    {
      "cell_type": "code",
      "execution_count": null,
      "metadata": {
        "id": "btag4J_gvWVO"
      },
      "outputs": [],
      "source": [
        "lucro_1tri = {'janeiro': 88000, 'fevereiro': 89000, 'março': 120000}\n",
        "lucro_2tri = {'abril': 88000, 'maio': 89000, 'junho': 120000}\n",
        "lucro_1tri2 = {'janeiro': 99000, 'fevereiro': 95000, 'março': 121000}\n",
        "\n",
        "lucro_1tri.update(lucro_2tri)\n",
        "print(lucro_1tri)\n",
        "lucro_1tri.update({'março':122000})\n",
        "print(lucro_1tri)\n",
        "lucro_1tri.update({'abril':88500,'maio':89900})\n",
        "print(lucro_1tri)\n",
        "lucro_1tri.update(lucro_1tri2)\n",
        "print(lucro_1tri)\n"
      ]
    },
    {
      "cell_type": "code",
      "execution_count": null,
      "metadata": {
        "id": "8AX2F90s6PcY",
        "outputId": "f0f3380c-05b1-4f5d-bc4a-39d1ada28240",
        "colab": {
          "base_uri": "https://localhost:8080/"
        }
      },
      "outputs": [
        {
          "output_type": "stream",
          "name": "stdout",
          "text": [
            "['jan', 'fev', 'mar']\n",
            "[150, 100, 190]\n",
            "[('jan', 150), ('fev', 100), ('mar', 190)]\n",
            "----------\n",
            "100\n",
            "100\n",
            "----------\n",
            "Chave não localizada, verifique!\n",
            "Chave não localizada, verifique a chave informada!\n"
          ]
        }
      ],
      "source": [
        "vendas_mes = {'jan': 150, 'fev': 100, 'mar': 190}\n",
        "print(list(vendas_mes.keys()))\n",
        "print(list(vendas_mes.values()))\n",
        "print(list(vendas_mes.items()))\n",
        "\n",
        "print('-'*10)\n",
        "print(vendas_mes.get('fev'))\n",
        "print(vendas_mes['fev'])\n",
        "print('-'*10)\n",
        "\n",
        "if 'abr' in vendas_mes:\n",
        "  print('achou!')\n",
        "else:\n",
        "  print('Chave não localizada, verifique!')\n",
        "\n",
        "if vendas_mes.get('abr') == None:\n",
        "  print('Chave não localizada, verifique a chave informada!')\n",
        "else:\n",
        "  print('Achou')"
      ]
    },
    {
      "cell_type": "markdown",
      "source": [
        "##Convertendo lista de tuplas com 03 valores em dicionário\n",
        "\n",
        "O método Zip () em Python usa um ou mais iteráveis ​​como parâmetros de entrada ou argumentos e mescla cada um deles em termos de elemento para criar um único iterável. O valor de retorno é um objeto zip, que também é um iterador e consiste em tuplas, que resultam da fusão entre os elementos dos iteradores de entrada."
      ],
      "metadata": {
        "id": "2l_etrNDPYhK"
      }
    },
    {
      "cell_type": "code",
      "source": [
        "vendas_produtos = [('iphone', 558147, 951642), ('galaxy', 712350, 244295), ('ipad', 573823, 26964), ('tv', 405252, 787604), ('máquina de café', 718654, 867660), ('kindle', 531580, 78830), ('geladeira', 973139, 710331), ('adega', 892292, 646016), ('notebook dell', 422760, 694913), ('notebook hp', 154753, 539704), ('notebook asus', 887061, 324831), ('microsoft surface', 438508, 667179), ('webcam', 237467, 295633), ('caixa de som', 489705, 725316), ('microfone', 328311, 644622), ('câmera canon', 591120, 994303)]\n",
        "\n",
        "l1, l2, l3 = zip(*vendas_produtos )\n",
        "\n",
        "v = zip(l2, l3)\n",
        "\n",
        "dicio = dict(zip(l1, v))\n",
        "\n",
        "print(dicio)\n",
        "#print(vendas_produtos)"
      ],
      "metadata": {
        "colab": {
          "base_uri": "https://localhost:8080/"
        },
        "id": "VpDiGEDUPWIC",
        "outputId": "efa0eae3-506e-4ef0-bda0-905367c8859e"
      },
      "execution_count": null,
      "outputs": [
        {
          "output_type": "stream",
          "name": "stdout",
          "text": [
            "{'iphone': (558147, 951642), 'galaxy': (712350, 244295), 'ipad': (573823, 26964), 'tv': (405252, 787604), 'máquina de café': (718654, 867660), 'kindle': (531580, 78830), 'geladeira': (973139, 710331), 'adega': (892292, 646016), 'notebook dell': (422760, 694913), 'notebook hp': (154753, 539704), 'notebook asus': (887061, 324831), 'microsoft surface': (438508, 667179), 'webcam': (237467, 295633), 'caixa de som': (489705, 725316), 'microfone': (328311, 644622), 'câmera canon': (591120, 994303)}\n"
          ]
        }
      ]
    },
    {
      "cell_type": "markdown",
      "metadata": {
        "id": "WfBdjqTB5xak"
      },
      "source": [
        "#STRING"
      ]
    },
    {
      "cell_type": "code",
      "execution_count": null,
      "metadata": {
        "id": "uXSDcC-wdE9W"
      },
      "outputs": [],
      "source": [
        "text = 'abCDefGhijklMNopqRSTUvxz'\n",
        "lista = []\n",
        "\n",
        "for l in text:\n",
        "  if l.islower():\n",
        "    lista += l\n",
        "\n",
        "print(lista)"
      ]
    },
    {
      "cell_type": "code",
      "execution_count": null,
      "metadata": {
        "id": "Y7qhpaDW6wMb"
      },
      "outputs": [],
      "source": [
        "import math\n",
        "\n",
        "print(math.sqrt(9))\n",
        "print(8**3)\n",
        "print(31/6)\n",
        "print(31//6)"
      ]
    },
    {
      "cell_type": "markdown",
      "metadata": {
        "id": "c7G6BzLf5xao"
      },
      "source": [
        "#ORDENAÇÃO/FORMATAÇÃO DE IMPRESSÃO"
      ]
    },
    {
      "cell_type": "code",
      "execution_count": null,
      "metadata": {
        "id": "O-6oRk-TVB3X"
      },
      "outputs": [],
      "source": [
        "produtos = ['iphone', 'galaxy', 'ipad', 'tv', 'máquina de café', 'kindle', 'geladeira', 'adega', 'notebook dell', 'notebook hp', 'notebook asus', 'microsoft surface', 'webcam', 'caixa de som', 'microfone', 'câmera canon']\n",
        "vendas2019 = [558147,712350,573823,405252,718654,531580,973139,892292,422760,154753,887061,438508,237467,489705,328311,591120]\n",
        "vendas2020 = [951642,244295,26964,787604,867660,78830,710331,646016,694913,539704,324831,667179,295633,725316,644622,994303]\n",
        "\n",
        "vendas = list(zip(vendas2019,vendas2020))\n",
        "produtos_vendas = dict(zip(produtos,vendas))\n",
        "lista_chaves = list(produtos_vendas.keys())\n",
        "lista_chaves.sort()\n",
        "\n",
        "#print(produtos_vendas)\n",
        "\n",
        "print('+-----------------------------------------------------------------------------------+')\n",
        "print('\\033[1;47m|{:^20}|{:^20}|{:^20}|{:^20}|\\033[0;0m'.format('PRODUTO', 'VENDAS2019', 'VENDAS2020', 'DIFERENÇA'))\n",
        "#print('\\033[1;47m'+'|{:^20}|{:^20}|{:^20}|{:^20}|'.format('PRODUTO', 'VENDAS2019', 'VENDAS2020', 'DIFERENÇA')+'\\033[0;0m')\n",
        "#\\033[1;47m  \\033[0;0m .format('teste')\n",
        "print('+-----------------------------------------------------------------------------------+')\n",
        "\n",
        "#for produtos in produtos_vendas:\n",
        "for chave in lista_chaves:\n",
        "  print('|{:<20}|R$ {:17_.2f}|R$ {:17_.2f}|R$ {:17_.2f}|'.format(chave.upper(), produtos_vendas[chave][0], produtos_vendas[chave][1], \n",
        "                                                                 produtos_vendas[chave][1]-produtos_vendas[chave][0]).replace('.',',').replace('_','.'))\n",
        "  #print(produtos_vendas[produtos][0])\n",
        "\n",
        "print('+-----------------------------------------------------------------------------------+')\n",
        "\n",
        "soma19 = 0\n",
        "soma20 = 0\n",
        "\n",
        "for vlr19, vlr20 in vendas:\n",
        "  #print(vlr19)\n",
        "  soma19 += vlr19\n",
        "  #print(vlr20)\n",
        "  soma20 += vlr20\n",
        "print('\\033[1;47m|{:>20}|R$ {:17_.2f}|R$ {:17_.2f}|R$ {:17_.2f}|\\033[0;0m '.format('TOTAL', soma19, soma20, soma20-soma19).replace('.',',').replace('_','.'))\n",
        "print('+-----------------------------------------------------------------------------------+')"
      ]
    },
    {
      "cell_type": "code",
      "execution_count": null,
      "metadata": {
        "id": "WkQpIIthBxHx",
        "outputId": "deb5473e-cb45-4d7c-8781-8cc107388457",
        "colab": {
          "base_uri": "https://localhost:8080/",
          "height": 272
        }
      },
      "outputs": [
        {
          "output_type": "stream",
          "name": "stdout",
          "text": [
            "[('iphone', (558147, 951642)), ('galaxy', (712350, 244295)), ('ipad', (573823, 26964)), ('tv', (405252, 787604)), ('máquina de café', (718654, 867660)), ('kindle', (531580, 78830)), ('geladeira', (973139, 710331)), ('adega', (892292, 646016)), ('notebook dell', (422760, 694913)), ('notebook hp', (154753, 539704)), ('notebook asus', (887061, 324831)), ('microsoft surface', (438508, 667179)), ('webcam', (237467, 295633)), ('caixa de som', (489705, 725316)), ('microfone', (328311, 644622)), ('câmera canon', (591120, 994303))]\n"
          ]
        },
        {
          "output_type": "error",
          "ename": "ValueError",
          "evalue": "ignored",
          "traceback": [
            "\u001b[0;31m---------------------------------------------------------------------------\u001b[0m",
            "\u001b[0;31mValueError\u001b[0m                                Traceback (most recent call last)",
            "\u001b[0;32m<ipython-input-1-15fe7eb839b5>\u001b[0m in \u001b[0;36m<module>\u001b[0;34m()\u001b[0m\n\u001b[1;32m      9\u001b[0m \u001b[0;34m\u001b[0m\u001b[0m\n\u001b[1;32m     10\u001b[0m \u001b[0mprint\u001b[0m\u001b[0;34m(\u001b[0m\u001b[0mlista_vendas\u001b[0m\u001b[0;34m)\u001b[0m\u001b[0;34m\u001b[0m\u001b[0;34m\u001b[0m\u001b[0m\n\u001b[0;32m---> 11\u001b[0;31m \u001b[0mprod\u001b[0m\u001b[0;34m,\u001b[0m \u001b[0mvlr\u001b[0m\u001b[0;34m,\u001b[0m \u001b[0mvlr1\u001b[0m \u001b[0;34m=\u001b[0m \u001b[0mlista_vendas\u001b[0m\u001b[0;34m[\u001b[0m\u001b[0;36m0\u001b[0m\u001b[0;34m]\u001b[0m\u001b[0;34m\u001b[0m\u001b[0;34m\u001b[0m\u001b[0m\n\u001b[0m\u001b[1;32m     12\u001b[0m \u001b[0mprint\u001b[0m\u001b[0;34m(\u001b[0m\u001b[0mprod\u001b[0m\u001b[0;34m)\u001b[0m\u001b[0;34m\u001b[0m\u001b[0;34m\u001b[0m\u001b[0m\n\u001b[1;32m     13\u001b[0m \u001b[0mprint\u001b[0m\u001b[0;34m(\u001b[0m\u001b[0mvlr\u001b[0m\u001b[0;34m[\u001b[0m\u001b[0;36m0\u001b[0m\u001b[0;34m]\u001b[0m\u001b[0;34m,\u001b[0m\u001b[0mvlr\u001b[0m\u001b[0;34m[\u001b[0m\u001b[0;36m1\u001b[0m\u001b[0;34m]\u001b[0m\u001b[0;34m)\u001b[0m\u001b[0;34m\u001b[0m\u001b[0;34m\u001b[0m\u001b[0m\n",
            "\u001b[0;31mValueError\u001b[0m: not enough values to unpack (expected 3, got 2)"
          ]
        }
      ],
      "source": [
        "produtos = ['iphone', 'galaxy', 'ipad', 'tv', 'máquina de café', 'kindle', 'geladeira', 'adega', 'notebook dell', 'notebook hp', 'notebook asus', 'microsoft surface', 'webcam', 'caixa de som', 'microfone', 'câmera canon']\n",
        "vendas2019 = [558147,712350,573823,405252,718654,531580,973139,892292,422760,154753,887061,438508,237467,489705,328311,591120]\n",
        "vendas2020 = [951642,244295,26964,787604,867660,78830,710331,646016,694913,539704,324831,667179,295633,725316,644622,994303]\n",
        "\n",
        "vendas = list(zip(vendas2019,vendas2020))\n",
        "produtos_vendas = dict(zip(produtos,vendas))\n",
        "\n",
        "lista_vendas = list(produtos_vendas.items())\n",
        "\n",
        "print(lista_vendas)\n",
        "prod, vlr, vlr1 = lista_vendas[0]\n",
        "print(prod)\n",
        "print(vlr[0],vlr[1])\n",
        "\n",
        "#for item in produtos_vendas:\n",
        "#   print(item, produtos_vendas[item][0],produtos_vendas[item][1])\n",
        "\n",
        "#prod, vlr = produtos_vendas[0]\n",
        "\n",
        "lista = list(produtos_vendas.keys())\n",
        "lista.sort()\n",
        "#print(lista)\n",
        "\n",
        "#for chave in lista:\n",
        "#  print('{} - {} - {}'.format(chave.upper(), produtos_vendas[chave][0],produtos_vendas[chave][1]))\n",
        "\n",
        "#print()\n",
        "\n",
        "#print(produtos_vendas.items())\n",
        "#print(produtos_vendas.keys())\n",
        "#print(produtos_vendas.values())\n",
        "\n",
        "#for produto, vlr in lista:\n",
        "#  print(produto, vlr[0],vlr[1])\n",
        "\n",
        "\n",
        "#soma19 = 0\n",
        "#soma20 = 0\n",
        "\n",
        "#for vlr19, vlr20 in vendas:\n",
        "  #print(vlr19)\n",
        "  #soma19 += vlr19\n",
        "#  print(vlr20)\n",
        "#  soma20 += vlr20\n",
        "\n",
        "#print(soma19)  \n",
        "#print(soma20)"
      ]
    },
    {
      "cell_type": "markdown",
      "metadata": {
        "id": "YdU6KP-f5xaq"
      },
      "source": [
        "#FUNCTIONS"
      ]
    },
    {
      "cell_type": "markdown",
      "metadata": {
        "id": "X5PIU0CgEEoM"
      },
      "source": [
        "Vamos criar uma function com parâmetro\n",
        "Digamos que estamos criando um programa para categorizar os produtos de uma revendedora de bebidas.\n",
        "\n",
        "Cada produto tem um código. O tipo de produto é dado pelas 3 primeiras letras do código.\n",
        "\n",
        "Ex:\n",
        "Vinho -> BEB12302\n",
        "Cerveja -> BEB12043\n",
        "Vodka -> BEB34501\n",
        "\n",
        "Guaraná -> BSA11104\n",
        "Coca -> BSA54301\n",
        "Sprite -> BSA34012\n",
        "Água -> BSA09871\n",
        "\n",
        "Repare que bebidas não alcóolicas começam com BSA e bebidas alcoolicas começam com BEB.\n",
        "\n",
        "Crie um programa que analise uma lista de produtos e envie instruções para a equipe de estoque dizendo quais produtos devem ser enviados para a área de bebidas alcóolicas.\n"
      ]
    },
    {
      "cell_type": "code",
      "execution_count": null,
      "metadata": {
        "id": "z_PBDB0iD8Pq"
      },
      "outputs": [],
      "source": [
        "def verifica(codigo):\n",
        "  if 'BEB' in codigo.upper():\n",
        "    return True\n",
        "  else:\n",
        "    return False\n",
        "\n",
        "produtos = ['beb46275','TFA23962','TFA64715','TFA69555','TFA56743','BSA45510','TFA44968','CAR75448','CAR23596','CAR13490','BEB21365','BEB31623','BSA62419','BEB73344','TFA20079','BEB80694','BSA11769','BEB19495','TFA14792','TFA78043','BSA33484','BEB97471','BEB62362','TFA27311','TFA17715','BEB85146','BEB48898','BEB79496','CAR38417','TFA19947','TFA58799','CAR94811','BSA59251','BEB15385','BEB24213','BEB56262','BSA96915','CAR53454','BEB75073']\n",
        "\n",
        "#ler a lista\n",
        "#identificar bebidas alcóolicas\n",
        "#imprimir mensagem com os códigos das bebidas alcóolicas\n",
        "\n",
        "qtde = 0\n",
        "\n",
        "for produto in produtos:\n",
        "  if verifica(produto):\n",
        "    print('O produto código {} deve ser enviado para a área das bebidas alcóolica'.format(produto.upper()))\n",
        "    qtde += 1\n",
        "print('-'*100)\n",
        "print('Total de {} produtos localizados.'.format(qtde))"
      ]
    },
    {
      "cell_type": "code",
      "execution_count": null,
      "metadata": {
        "id": "rzH_YDl2XOMS"
      },
      "outputs": [],
      "source": [
        "def ajusta_codigos(codigo_produto, padrao='M'):\n",
        "    for i, codigo in enumerate(codigo_produto):\n",
        "        codigo = codigo.replace(' ','')\n",
        "        \n",
        "        if padrao == 'M':\n",
        "            codigo = codigo.upper()\n",
        "        elif padrao == 'm':\n",
        "            codigo = codigo.casefold()\n",
        "        \n",
        "        codigo_produto[i] = codigo\n",
        "    return codigo_produto\n",
        "\n",
        "cod_produtos = [' ABC12 ', 'abc34   ', '   A bC37 ', 'AbC 13  4', 'A A c 1 9 1 aaBB c']\n",
        "\n",
        "print(ajusta_codigos(cod_produtos,'M'))"
      ]
    },
    {
      "cell_type": "code",
      "execution_count": null,
      "metadata": {
        "id": "vhnOQMfIgezN"
      },
      "outputs": [],
      "source": [
        "def teste_funcao(y):\n",
        "    calculo = y ** 4\n",
        "    return calculo\n",
        "\n",
        "print(teste_funcao(2))"
      ]
    },
    {
      "cell_type": "code",
      "execution_count": null,
      "metadata": {
        "id": "SJZtmrbylwly"
      },
      "outputs": [],
      "source": [
        "def filtrar_texto(lista_texto, texto_procurado):\n",
        "    texto_encontrato = []\n",
        "    for texto in lista_texto:\n",
        "        if texto_procurado in texto:\n",
        "            texto_encontrato.append(texto)\n",
        "    return texto_encontrato\n",
        "\n",
        "lista_emails = ['flavio@gmailcom','dani@gmail.com','flavio@msn.com','flavia@icloud.com','paula@gmail.com','arthur@gmail.com']\n",
        "\n",
        "print(filtrar_texto(lista_emails,'msn'))"
      ]
    },
    {
      "cell_type": "code",
      "execution_count": null,
      "metadata": {
        "id": "1ShqtbfqiynY"
      },
      "outputs": [],
      "source": [
        ""
      ]
    },
    {
      "cell_type": "markdown",
      "metadata": {
        "id": "CYeaul5xiooA"
      },
      "source": [
        "Item 1: Crie uma função que calcula o percentual de Stockout de uma empresa\n",
        "\n",
        "O % de stockout é dado por (Vendas Perdidas por Estoque) / (Vendas Concluídas + Vendas Perdidas por Estoque) -> essas vendas são dadas em valor total (dinheiro) e não em quantidade de vendas\n",
        "\n",
        "Seu programa recebe um dicionário com todas as vendas da empresa, o status dela (se foi Concluída ou Cancelada) e, caso tenha sido Cancelada, o motivo de Cancelamento. O formato é o seguinte:\n"
      ]
    },
    {
      "cell_type": "code",
      "execution_count": null,
      "metadata": {
        "id": "YuDtpOyYCJBM"
      },
      "outputs": [],
      "source": [
        "vendas = {'VE0001': (9868,'Concluído',''),'VE0002': (9642,'Concluído',''),'VE0003': (6007,'Concluído',''),'VE0004': (15562,'Concluído',''),'VE0005': (18752,'Cancelado','Estoque em Falta'),'VE0006': (16358,'Cancelado','Estoque em Falta'),'VE0007': (17045,'Concluído',''),'VE0008': (12230,'Concluído',''),'VE0009': (6747,'Concluído',''),'VE0010': (15114,'Concluído',''),'VE0011': (12497,'Concluído',''),'VE0012': (6001,'Concluído',''),'VE0013': (16227,'Cancelado','Cancelada pelo Cliente'),'VE0014': (16150,'Concluído',''),'VE0015': (17705,'Concluído',''),'VE0016': (9978,'Concluído',''),'VE0017': (4266,'Concluído',''),'VE0018': (11531,'Concluído',''),'VE0019': (10352,'Cancelado','Cancelada pelo Cliente'),'VE0020': (16544,'Concluído',''),'VE0021': (15488,'Concluído',''),'VE0022': (15828,'Concluído',''),'VE0023': (1218,'Concluído',''),'VE0024': (11560,'Concluído',''),'VE0025': (14220,'Concluído',''),'VE0026': (17839,'Concluído',''),'VE0027': (4050,'Concluído',''),'VE0028': (7594,'Cancelado','Estoque em Falta'),'VE0029': (19586,'Concluído',''),'VE0030': (8453,'Concluído',''),'VE0031': (3589,'Concluído',''),'VE0032': (13472,'Cancelado','Cancelada pelo Cliente'),'VE0033': (16994,'Concluído',''),'VE0034': (2139,'Concluído',''),'VE0035': (10173,'Concluído',''),'VE0036': (17784,'Cancelado','Estoque em Falta'),'VE0037': (12214,'Concluído',''),'VE0038': (5878,'Concluído',''),'VE0039': (2622,'Concluído',''),'VE0040': (9765,'Concluído',''),'VE0041': (8872,'Concluído',''),'VE0042': (16543,'Concluído',''),'VE0043': (8994,'Concluído',''),'VE0044': (4332,'Concluído',''),'VE0045': (19679,'Concluído',''),'VE0046': (14968,'Concluído',''),'VE0047': (6352,'Concluído',''),'VE0048': (11461,'Concluído',''),'VE0049': (5285,'Concluído',''),'VE0050': (11639,'Concluído',''),'VE0051': (6023,'Concluído',''),'VE0052': (4943,'Concluído',''),'VE0053': (5654,'Concluído',''),'VE0054': (11734,'Concluído',''),'VE0055': (2742,'Concluído',''),'VE0056': (5380,'Cancelado','Estoque em Falta'),'VE0057': (5578,'Concluído',''),'VE0058': (1897,'Concluído',''),'VE0059': (7857,'Concluído',''),'VE0060': (4472,'Concluído',''),'VE0061': (19874,'Concluído',''),'VE0062': (13323,'Cancelado','Cancelada pelo Cliente'),'VE0063': (5821,'Concluído',''),'VE0064': (4410,'Concluído',''),'VE0065': (16676,'Concluído',''),'VE0066': (10577,'Concluído',''),'VE0067': (10627,'Concluído',''),'VE0068': (1987,'Concluído',''),'VE0069': (13197,'Concluído',''),'VE0070': (15063,'Concluído',''),'VE0071': (14363,'Concluído',''),'VE0072': (10452,'Concluído',''),'VE0073': (15376,'Concluído',''),'VE0074': (4661,'Concluído',''),'VE0075': (13287,'Concluído',''),'VE0076': (8278,'Concluído',''),'VE0077': (7134,'Concluído',''),'VE0078': (16568,'Concluído',''),'VE0079': (17732,'Concluído',''),'VE0080': (5127,'Concluído',''),'VE0081': (4582,'Concluído',''),'VE0082': (14804,'Cancelado','Cancelada pelo Cliente'),'VE0083': (12362,'Concluído',''),'VE0084': (1148,'Concluído',''),'VE0085': (14018,'Concluído',''),'VE0086': (15891,'Concluído',''),'VE0087': (4517,'Concluído',''),'VE0088': (1770,'Concluído',''),'VE0089': (14926,'Concluído',''),'VE0090': (13627,'Concluído',''),'VE0091': (3047,'Concluído',''),'VE0092': (13924,'Concluído',''),'VE0093': (7158,'Concluído',''),'VE0094': (5942,'Concluído',''),'VE0095': (13480,'Concluído',''),'VE0096': (17686,'Concluído',''),'VE0097': (5722,'Cancelado','Cancelada pelo Cliente'),'VE0098': (16963,'Concluído',''),'VE0099': (14225,'Concluído',''),'VE0100': (12553,'Concluído',''),'VE0101': (18047,'Concluído',''),'VE0102': (11420,'Concluído',''),'VE0103': (6191,'Concluído',''),'VE0104': (8388,'Concluído',''),'VE0105': (17210,'Concluído',''),'VE0106': (12217,'Concluído',''),'VE0107': (8984,'Concluído',''),'VE0108': (7638,'Cancelado','Cancelada pelo Cliente'),'VE0109': (8462,'Concluído',''),'VE0110': (14081,'Concluído',''),'VE0111': (10842,'Concluído',''),'VE0112': (13261,'Concluído',''),'VE0113': (16953,'Cancelado','Estoque em Falta'),'VE0114': (5343,'Concluído',''),'VE0115': (4734,'Concluído',''),'VE0116': (13606,'Cancelado','Cancelada pelo Cliente'),'VE0117': (17106,'Cancelado','Estoque em Falta'),'VE0118': (17704,'Concluído',''),'VE0119': (12242,'Concluído',''),'VE0120': (7476,'Cancelado','Estoque em Falta'),'VE0121': (18408,'Concluído',''),'VE0122': (13612,'Concluído',''),'VE0123': (18198,'Concluído',''),'VE0124': (4844,'Concluído',''),'VE0125': (12750,'Concluído',''),'VE0126': (11969,'Concluído',''),'VE0127': (15337,'Concluído',''),'VE0128': (1100,'Concluído',''),'VE0129': (18893,'Concluído',''),'VE0130': (15850,'Concluído',''),'VE0131': (2097,'Concluído',''),'VE0132': (11636,'Cancelado','Estoque em Falta'),'VE0133': (12603,'Concluído',''),'VE0134': (10769,'Concluído',''),'VE0135': (11016,'Concluído',''),'VE0136': (14556,'Concluído',''),'VE0137': (1389,'Concluído',''),'VE0138': (11681,'Concluído',''),'VE0139': (16759,'Cancelado','Cancelada pelo Cliente'),'VE0140': (16317,'Concluído',''),'VE0141': (5965,'Concluído',''),'VE0142': (4493,'Concluído',''),'VE0143': (5398,'Concluído',''),'VE0144': (9875,'Concluído',''),'VE0145': (17492,'Concluído',''),'VE0146': (7473,'Concluído',''),'VE0147': (10284,'Concluído',''),'VE0148': (10778,'Concluído',''),'VE0149': (2227,'Concluído',''),'VE0150': (14157,'Concluído',''),'VE0151': (9516,'Concluído',''),'VE0152': (9824,'Concluído',''),'VE0153': (5118,'Concluído',''),'VE0154': (5123,'Concluído',''),'VE0155': (2697,'Concluído',''),'VE0156': (19024,'Concluído',''),'VE0157': (5128,'Concluído',''),'VE0158': (8293,'Cancelado','Estoque em Falta'),'VE0159': (18782,'Concluído',''),'VE0160': (12182,'Concluído',''),'VE0161': (9063,'Concluído',''),'VE0162': (17608,'Concluído',''),'VE0163': (8456,'Cancelado','Cancelada pelo Cliente'),'VE0164': (1291,'Concluído',''),'VE0165': (14018,'Concluído',''),'VE0166': (2791,'Concluído',''),'VE0167': (17953,'Concluído',''),'VE0168': (14627,'Concluído',''),'VE0169': (3296,'Concluído',''),'VE0170': (1863,'Concluído',''),'VE0171': (4719,'Concluído',''),'VE0172': (15060,'Concluído',''),'VE0173': (2596,'Cancelado','Cancelada pelo Cliente'),'VE0174': (4919,'Concluído',''),'VE0175': (13770,'Concluído',''),'VE0176': (15041,'Cancelado','Estoque em Falta'),'VE0177': (6702,'Concluído',''),'VE0178': (9989,'Concluído',''),'VE0179': (5135,'Concluído',''),'VE0180': (13337,'Concluído',''),'VE0181': (13457,'Concluído',''),'VE0182': (17218,'Concluído',''),'VE0183': (6424,'Concluído',''),'VE0184': (5478,'Concluído',''),'VE0185': (10478,'Cancelado','Cancelada pelo Cliente'),'VE0186': (3240,'Concluído',''),'VE0187': (16503,'Concluído',''),'VE0188': (12762,'Concluído',''),'VE0189': (6985,'Cancelado','Cancelada pelo Cliente'),'VE0190': (13013,'Concluído',''),'VE0191': (5706,'Concluído',''),'VE0192': (6521,'Cancelado','Estoque em Falta'),'VE0193': (12904,'Concluído',''),'VE0194': (14691,'Concluído',''),'VE0195': (19338,'Concluído',''),'VE0196': (4556,'Cancelado','Cancelada pelo Cliente'),'VE0197': (9653,'Concluído',''),'VE0198': (4617,'Concluído',''),'VE0199': (4717,'Concluído',''),'VE0200': (8366,'Concluído','')}"
      ]
    },
    {
      "cell_type": "code",
      "source": [
        "for venda in vendas:\n",
        "    print(venda, vendas[venda][0])"
      ],
      "metadata": {
        "id": "6rDczOlbVZ1e"
      },
      "execution_count": null,
      "outputs": []
    },
    {
      "cell_type": "code",
      "execution_count": null,
      "metadata": {
        "id": "P1XwZlh0CiFI"
      },
      "outputs": [],
      "source": [
        "#print(vendas)\n",
        "def stockout(dicionario_vendas):\n",
        "    numerador = 0\n",
        "    denomidador = 0\n",
        "#    for venda in dicionario_vendas:\n",
        "#        valor, status, motivo = dicionario_vendas[venda]\n",
        "    for valor, status, motivo in list(dicionario_vendas.values()):\n",
        "        if status == 'Concluído':\n",
        "            denomidador += valor\n",
        "        elif (status == 'Cancelado') and (motivo == 'Estoque em Falta'):\n",
        "            numerador += valor\n",
        "            denomidador += valor\n",
        "    return numerador / denomidador\n",
        "\n",
        "print('{:.2%}'.format(stockout(vendas)))"
      ]
    },
    {
      "cell_type": "code",
      "execution_count": null,
      "metadata": {
        "id": "ihjX8cOJF1nU"
      },
      "outputs": [],
      "source": [
        "vendasx = ['ABC12', 'ABC37', 'ABC134', 'ABC34', 'AAC191AABBC']\n",
        "\n",
        "#for vlr, status, motivo in list(vendas.values()):\n",
        "#    print(vlr, status, motivo)\n",
        "\n",
        "vendasx.sort()\n",
        "\n",
        "print(vendasx)\n",
        "print()\n",
        "print('\\n'.join(vendasx))"
      ]
    },
    {
      "cell_type": "markdown",
      "metadata": {
        "id": "zQGq0apVjDbe"
      },
      "source": [
        "Item 2: Crie uma função para descobrir os clientes inadimplentes de uma empresa\n",
        "\n",
        "O objetivo é identificar quem são os clientes inadimplentes e enviar essa lista de clientes para o setor de cobrança poder fazer a cobrança dos clientes.\n",
        "Sua função deve então receber uma lista de clientes, analisar quais clientes estão inadimplentes, e retornar uma lista com os clientes inadimplentes (apenas o CPF deles já é suficiente)\n",
        "\n",
        "A inadimplência nessa empresa é calculada da seguinte forma:\n",
        "\n",
        "Se o cliente tiver devendo mais de 1.000 reais por mais de 20 dias, ele é considerado inadimplente.\n",
        "\n",
        "Isso significa que caso ou cliente esteja devendo 2.000 reais a 10 dias, ele não é inadimplente, pois não se passaram 20 dias ainda.\n",
        " Da mesma forma, se ele estiver devendo 500 reais por 40 dias, ele também não é inadimplente, dado que ele deve menos de 1.000 reais.\n",
        " \n",
        "As informações vêm no formato (cpf, valor_devido, qtde de dias)"
      ]
    },
    {
      "cell_type": "code",
      "execution_count": null,
      "metadata": {
        "id": "U7bjG0Y_Ru8U"
      },
      "outputs": [],
      "source": [
        "clientes_devedores = [('462.286.561-65',14405,24),('251.569.170-81',16027,1),('297.681.579-21',8177,28),('790.223.154-40',9585,10),('810.442.219-10',18826,29),('419.210.299-79',11421,15),('908.507.760-43',12445,24),('911.238.364-17',1345,4),('131.115.339-28',11625,8),('204.169.467-27',5364,22),('470.806.376-11',932,29),('938.608.980-69',13809,19),('554.684.165-26',11227,2),('119.225.846-34',4475,9),('358.890.858-95',13932,20),('786.547.940-70',17048,25),('468.487.741-94',2902,8),('540.685.100-32',5806,21),('379.729.796-80',7622,24),('980.173.363-94',13167,24),('833.285.374-56',19581,24),('103.669.436-50',17126,4),('386.836.124-46',18825,11),('588.404.964-15',1545,30),('600.556.177-18',1921,7),('670.346.230-99',18079,28),('771.352.915-13',16581,23),('430.314.324-46',13942,24),('629.507.759-51',17951,11),('348.683.225-73',12424,10),('406.133.151-17',5888,30),('310.985.894-64',17316,30),('964.317.132-30',18818,30),('845.331.524-14',14284,13),('781.995.738-18',19369,29),('921.558.128-63',3206,27),('941.386.982-65',10228,26),('551.135.290-10',18822,18),('537.124.578-35',12670,6),('119.383.169-76',790,20),('938.473.410-98',8851,5),('279.775.182-54',5212,20),('210.872.954-53',13569,8),('684.995.531-65',8649,21),('653.886.282-57',504,28),('973.580.738-53',2533,9),('285.864.892-85',8200,21),('777.154.423-98',10336,8),('769.786.401-34',3233,12),('521.566.565-97',11882,14),('491.799.681-92',653,8),('344.357.819-36',8856,18),('265.362.581-99',8962,8),('331.410.527-56',18516,18),('143.188.958-61',7234,29),('751.630.472-61',13552,6),('714.707.807-80',2898,7),('585.584.932-83',239,25),('165.554.107-13',9572,23),('718.225.984-87',10534,25),('611.715.653-32',3210,11),('397.994.286-79',13651,24),('967.160.575-69',8997,25),('369.750.998-94',13952,2),('767.400.554-79',18320,11),('171.104.286-74',5821,21),('152.817.649-24',3358,30),('645.308.846-62',15176,25),('273.884.570-92',4436,13),('888.818.341-45',15730,3),('577.836.712-40',14670,16),('513.529.919-95',4002,1),('201.476.809-95',17442,21),('657.816.571-87',1582,2),('810.494.975-87',2157,9),('531.749.410-17',12355,18),('486.290.887-24',18576,26),('432.376.642-62',8027,23),('207.274.437-91',5125,29),('634.244.673-72',11387,15),('346.871.172-72',8105,23),('166.330.605-50',7865,11),('829.181.731-94',2425,8),('197.305.464-63',9681,8),('887.877.706-59',15681,10),('847.598.885-51',323,23),('817.170.984-26',5169,27),('591.397.550-29',13362,25),('872.733.198-95',5756,18),('615.629.238-82',11678,23),('194.782.846-77',11044,17),('146.392.158-88',6848,4),('240.427.458-70',3906,25),('583.662.427-52',3306,5),('841.627.523-64',4778,4),('985.337.216-77',15308,4),('912.410.722-57',11683,6),('700.720.266-23',12638,21),('605.405.529-53',3831,3),('383.256.402-25',2599,10),('248.103.486-68',9121,1),('261.974.594-90',2139,26),('297.126.704-91',18529,16),('680.569.318-52',10176,23),('296.334.647-38',225,13),('200.761.898-70',16244,20),('258.232.687-17',19462,18),('597.295.672-38',18840,11),('894.479.102-52',11375,12),('556.156.341-36',16269,23),('987.874.553-86',11253,17),('248.927.998-94',6510,1),('852.796.660-25',2662,23),('741.370.204-36',9303,16),('536.714.951-95',2877,23),('320.395.830-44',14554,5),('520.645.562-80',17547,24),('553.700.674-28',3147,14),('913.525.896-32',17651,28),('750.456.495-86',11524,9),('246.171.748-38',15184,4),('760.248.897-67',4953,25),('920.890.990-46',17172,20),('805.469.913-50',17500,21),('878.594.225-48',6255,3),('356.715.924-36',3454,13),('847.150.802-96',8602,22),('625.846.640-53',10888,19),('539.300.108-41',11225,21),('549.151.467-76',1286,21),('738.451.908-29',18905,22),('987.288.834-69',17533,25),('898.532.296-94',9719,11),('620.531.607-13',13584,10),('169.415.202-43',1871,29),('757.885.355-97',18150,28),('252.581.376-21',2497,3),('177.937.460-78',7178,8),('523.895.611-54',9878,26),('883.680.201-23',16761,3),('936.678.268-71',11017,9),('871.912.703-73',1754,9),('957.749.478-56',6914,9),('725.636.354-80',8605,13),('898.316.244-33',14363,12),('894.748.325-28',2764,3),('647.106.954-60',1482,6),('628.716.937-98',14107,8),('332.677.483-83',19146,15),('186.870.928-82',17050,12),('216.248.879-71',4384,16),('287.929.269-44',4894,19),('278.335.932-42',17220,13),('824.107.287-13',11797,7),('535.354.954-30',9195,22),('311.762.241-12',13871,2),('209.759.133-88',13580,21),('505.728.766-53',16950,13),('879.471.988-23',17427,14),('772.329.947-39',3462,8),('321.123.241-10',2592,22),('407.342.963-78',11435,21),('786.935.637-47',14240,9),('461.791.351-55',142,2),('770.920.161-42',1247,24),('639.870.185-59',6430,10),('815.943.237-83',19550,22),('141.774.255-61',17866,13),('379.995.400-37',9503,29),('261.103.178-64',19167,13),('495.461.913-57',12265,29),('498.848.750-79',14549,16),('578.770.731-84',1462,5),('408.987.269-72',5647,28),('191.970.336-40',6313,15),('761.137.848-34',10654,23),('810.512.154-21',14928,1),('256.371.788-38',7085,2),('216.401.188-57',1531,23),('956.318.620-43',6327,22),('986.516.478-33',3866,25),('105.665.555-60',7118,4),('259.228.430-72',1601,8),('133.627.971-58',10142,14),('327.988.845-70',14985,23),('363.167.322-63',17236,7),('189.986.406-38',16888,18),('661.194.373-45',7824,1),('805.728.877-53',514,10),('887.826.412-21',15977,24),('122.975.174-32',9409,25),('456.550.370-55',19922,18),('388.243.133-66',19785,17),('208.788.890-61',11893,22),('881.332.662-49',6344,16),('912.349.944-52',6858,15),('534.904.583-32',9559,11),('825.175.334-25',19805,15),('339.191.298-46',13325,8),('569.993.915-78',4339,15)]\n",
        "\n",
        "def clientes_inadimpletes(lista_devedores, xdias=20):\n",
        "    cont = 0\n",
        "    lista_devedores = []\n",
        "    for cpf, valor, dias in list(clientes_devedores):\n",
        "        if (valor > 1000) and (dias > xdias):\n",
        "            lista_devedores.append(cpf)\n",
        "            cont += 1\n",
        "    return lista_devedores, cont\n",
        "lista, qtde = clientes_inadimpletes(clientes_devedores,28)\n",
        "\n",
        "print(clientes_inadimpletes(clientes_devedores,28))\n",
        "print('-'*100+'\\n', qtde)"
      ]
    },
    {
      "cell_type": "markdown",
      "metadata": {
        "id": "GGTTwIwX-S3p"
      },
      "source": [
        "Aplicação\n",
        "Data Science e Inteligência Artificial usa MUITO isso.\n",
        "\n",
        "Quando criamos um modelo de previsão, precisamos treinar esse modelo e testar para ver se ele sendo um bom modelo ou não.\n",
        "\n",
        "Temos então que pegar os nossos dados e dividir em 2 pedaços, uma lista de treino e uma lista de teste.\n",
        "\n",
        "Vamos então pensar no exemplo de um modelo que tenta identificar qual o valor justo de um imóvel de acordo com o tamanho do imóvel. Temos então 2 listas:\n",
        "\n",
        "Lista 1: Preços Reais dos Imóveis\n",
        "\n",
        "Lista 2: Tamanho do imóvel.\n",
        "\n",
        "Vamos criar então uma função que recebe 2 listas como entrada e que divide cada uma dessas listas em 2, um pedaço de treino e um pedaço de teste. O percentual que a lista vai ser dividida é definida por um fator (que também vai ser um parâmetro da função)"
      ]
    },
    {
      "cell_type": "code",
      "execution_count": null,
      "metadata": {
        "id": "7Gc7nPSk-TlH"
      },
      "outputs": [],
      "source": [
        "precos_imoveis=[2.17,1.54,1.45,1.94,2.37,2.3,1.79,1.8,2.25,1.37,2.4,1.72,2,1.69,1.63,2.01,2.25,1.61,1.02,1.19,1.86,2.15,2.03,1.61,1.52,1.56,1.69,1.47,1.09,2.47,1.62,2.15,1.81,2.49,2.08,1.02,1.68,1.53,1.2,1.29,1.88,1.92,2.14,1.95,2.48,2.44,1.41,1.98,1.89,1.69,1.95,1.42,1.57,2.32,1.23,1.43,1.35,1.49,2.39,2.37,1.3,2.25,1.5,1.35,2.06,1.05,1.7,2.29,2.44,2.09,1.81,2.04,2.45,1.42,2.09,2.19,2.09,1,2.23,1.39,2,1.29,1.55,1.67,2.06,1.89,2.07,2.39,1.93,1.51,1.73,1.66,1.18,1.13,1.69,2.48,1.26,1.75,1.51,1.73]\n",
        "tamanho_imoveis=[207,148,130,203,257,228,160,194,232,147,222,165,184,175,147,217,214,171,86,111,180,211,210,168,156,154,179,163,99,246,162,205,195,263,198,121,149,140,122,119,197,210,218,202,258,256,135,203,173,152,197,145,154,252,141,141,151,133,232,229,134,215,155,138,186,120,152,213,256,219,200,210,238,140,224,233,222,120,233,151,185,111,149,186,194,194,222,223,185,157,154,164,129,128,169,240,136,191,157,154]\n",
        "\n",
        "def teste_separa_lista(precos, tamanho, fator=0.1):\n",
        "    '''Função para separar valores das lista para etapas de treino e teste, conforme definição de um fator que tem por padrão 10%\n",
        "\n",
        "    parametros:\n",
        "    preços (float) = recebe a lista de preço\n",
        "    tamanho (int) = recebe a lista de tamanho dos imoveis em metros\n",
        "    fator (float) = recebe o percentual que será dividido as etapas de treino e teste\n",
        "\n",
        "    retorno:\n",
        "    retorna as listas de cada etapa (treino e teste) com as partes e valores definidos \n",
        "    '''\n",
        "    i = int((1 - fator) * len(precos))\n",
        "    lista_treino_preços = precos[:i]\n",
        "    lista_treino_tamanho = tamanho[:i]\n",
        "    lista_teste_precos = precos[i:]\n",
        "    lista_teste_tamanho = tamanho[i:]\n",
        "    return lista_treino_preços, lista_treino_tamanho, lista_teste_precos, lista_teste_tamanho\n",
        "    \n",
        "\n",
        "#print(len(precos_imoveis))\n",
        "#print(len(precos_imoveis[:9]))\n",
        "#print(len(precos_imoveis[9:]))\n",
        "\n",
        "print(teste_separa_lista(precos_imoveis,tamanho_imoveis))\n",
        "\n",
        "treino_precos, treino_tamanho, teste_precos, teste_tamanho = teste_separa_lista(precos_imoveis,tamanho_imoveis)\n",
        "print()\n",
        "print('lista treino de preços: ',treino_precos)\n",
        "print()\n",
        "print('lista treino de tamanho: ',treino_tamanho)\n",
        "print()\n",
        "print('lista teste de preços: ',teste_precos)\n",
        "print()\n",
        "print('lista teste de tamanho: ',teste_tamanho)\n",
        "\n",
        "\n"
      ]
    },
    {
      "cell_type": "markdown",
      "metadata": {
        "id": "IsKZUcJwV4gl"
      },
      "source": [
        "##Função com argumentos de posição: recebe os parâmetros na ordem\n"
      ]
    },
    {
      "cell_type": "code",
      "execution_count": null,
      "metadata": {
        "id": "v6siHdeO187M"
      },
      "outputs": [],
      "source": [
        "def teste_mult_args(*args):\n",
        "    print(args)\n",
        "    print()\n",
        "    a = args[0]\n",
        "    b = args[1]\n",
        "    c = args[4]\n",
        "    return a, b, c\n",
        "\n",
        "print(teste_mult_args(8,10,55,'Flavio','Dani',55,66))"
      ]
    },
    {
      "cell_type": "markdown",
      "metadata": {
        "id": "hRgkaeX-WB26"
      },
      "source": [
        "##Função com argumentos de chave(keywords): recebe os parâmetros pelas chaves"
      ]
    },
    {
      "cell_type": "code",
      "execution_count": null,
      "metadata": {
        "id": "WyxjWAAmMoGD"
      },
      "outputs": [],
      "source": [
        "def teste_mult_keywords(preco, **kwargs):\n",
        "    print(kwargs)\n",
        "    print()\n",
        "    if 'desconto' in kwargs:\n",
        "        preco *= (100 - kwargs['desconto']) / 100\n",
        "    if 'frete' in kwargs:\n",
        "        preco += kwargs['frete']\n",
        "    if 'seguro' in kwargs:\n",
        "        preco += kwargs['seguro']\n",
        "    return preco\n",
        "\n",
        "print(teste_mult_keywords(1000,desconto=10,frete=10,seguro=5,teste=25))\n"
      ]
    },
    {
      "cell_type": "markdown",
      "metadata": {
        "id": "k7vQlHqvcoUD"
      },
      "source": [
        "## Ordem dos argumentos \n",
        "1 argumentos de posição\n",
        "2 argumentos multiplos de posição\n",
        "3 argumentos de keywords\n",
        "4 argumentos multiplos de keywords"
      ]
    },
    {
      "cell_type": "code",
      "execution_count": null,
      "metadata": {
        "id": "NiDoMo9Fcnwk"
      },
      "outputs": [],
      "source": [
        "def minha_funcao(arg1, arg2, arg3, *args, k = kwargs, k2 = kwargs2, **kwargs)"
      ]
    },
    {
      "cell_type": "markdown",
      "metadata": {
        "id": "HM8RyZ70jtwh"
      },
      "source": [
        ""
      ]
    },
    {
      "cell_type": "code",
      "execution_count": null,
      "metadata": {
        "id": "8hMxRjc2js8f"
      },
      "outputs": [],
      "source": [
        "estoque_fim_jan = [('BSA2199',396),('PPF5239',251),('BSA1212',989),('PPF2154',449),('BEB3410',241),('PPF8999',527),('EMB9591',601),('BSA2006',314),('EMB3604',469),('EMB2070',733),('PPF9018',339),('PPF1468',906),('BSA5819',291),('PPF8666',850),('BEB2983',353),('BEB5877',456),('PPF5008',963),('PPF3877',185),('PPF7321',163),('BSA8833',644),('PPF4980',421),('PPF3063',757),('BSA2089',271),('BSA8398',180),('EMB4622',515),('EMB9814',563),('PPF3784',229),('PPF2398',270),('BEB3211',181),('PPF8655',459),('PPF1874',799),('PPF8789',126),('PPF6324',375),('EMB9290',883),('BSA5516',555),('BSA8451',243),('BSA8213',423)]\n",
        "estoque_fim_fev = [('BSA2199',849),('PPF5239',877),('BSA1212',336),('PPF2154',714),('BEB3410',834),('PPF8999',201),('EMB9591',576),('BSA2006',985),('EMB3604',615),('EMB2070',182),('PPF9018',127),('PPF1468',212),('BSA5819',338),('PPF8666',751),('BEB2983',363),('BEB5877',916),('PPF5008',331),('PPF3877',744),('PPF7321',488),('BSA8833',277),('PPF4980',530),('PPF3063',796),('BSA2089',396),('BSA8398',478),('EMB4622',603),('EMB9814',784),('PPF3784',434),('PPF2398',896),('BEB3211',826),('PPF8655',748),('PPF1874',210),('PPF8789',891),('PPF6324',250),('EMB6618',611),('BSA3409',984),('BSA9866',870),('BSA1792',672)]\n",
        "estoque_fim_mar = [('BSA2199',772),('PPF5239',394),('BSA1212',409),('PPF2154',473),('BEB3410',831),('PPF8999',764),('EMB9591',942),('BSA2006',482),('EMB3604',745),('EMB2070',451),('PPF9018',608),('PPF1468',675),('BSA5819',431),('PPF8666',795),('BEB2983',439),('BEB5877',588),('PPF5008',442),('PPF3877',950),('PPF7321',606),('BSA8833',464),('PPF4980',819),('PPF3063',687),('BSA2089',253),('BSA8398',437),('EMB4622',769),('EMB9814',178),('PPF3784',996),('PPF2398',588),('BEB3211',247),('PPF8655',309),('PPF1874',305),('PPF8789',878),('PPF6324',826),('EMB6618',534),('BSA3409',705),('BSA9895',618),('BSA4319',690)]\n",
        "estoque_fim_abr = [('BSA2199',647),('PPF5239',292),('BSA1212',551),('PPF2154',802),('BEB3410',712),('PPF8999',603),('EMB9591',963),('BSA2006',481),('EMB3604',199),('EMB2070',635),('PPF9018',956),('PPF1468',161),('BSA5819',787),('PPF8666',771),('BEB2983',867),('BEB5877',539),('PPF5008',614),('PPF3877',715),('PPF7321',336),('BSA8833',961),('PPF4980',116),('PPF3063',876),('BSA2089',579),('BSA8398',814),('EMB4622',434),('EMB9814',981),('PPF3784',498),('PPF2398',498),('BEB3211',606),('PPF8655',168),('PPF1874',518),('PPF8789',157),('PPF6324',501),('EMB6618',932),('BSA3409',247),('BSA9895',287),('BSA4319',477)]\n",
        "\n",
        "\n",
        "def atualiza_estoque(*listas):\n",
        "    estoque_atualizado = {}\n",
        "    for lista in listas:\n",
        "        for produto, estoque in lista:\n",
        "            estoque_atualizado.update({produto: estoque})\n",
        "    return estoque_atualizado\n",
        "\n",
        "print(atualiza_estoque(estoque_fim_jan,estoque_fim_fev,estoque_fim_mar,estoque_fim_abr))\n",
        "print(len(atualiza_estoque(estoque_fim_jan,estoque_fim_fev,estoque_fim_mar,estoque_fim_abr)))\n",
        "print()\n"
      ]
    },
    {
      "cell_type": "markdown",
      "metadata": {
        "id": "2Mgy0Ibd5xa6"
      },
      "source": [
        "#TRY/EXCEPT"
      ]
    },
    {
      "cell_type": "code",
      "execution_count": null,
      "metadata": {
        "id": "ylj4aY13xkoO"
      },
      "outputs": [],
      "source": [
        "x = 'abc'\n",
        "y = 2\n",
        "z = 0\n",
        "\n",
        "try:\n",
        "    #print(int(x))\n",
        "    #print(y/z)\n",
        "    int(x) / z\n",
        "except ZeroDivisionError: \n",
        "    print('Divisao por 0')\n",
        "except ValueError:\n",
        "    print('Valor')"
      ]
    },
    {
      "cell_type": "markdown",
      "metadata": {
        "id": "sBuxGLgq5xa9"
      },
      "source": [
        "# SET\n",
        "### (elimina duplos, pega a última ocorrência)"
      ]
    },
    {
      "cell_type": "code",
      "execution_count": null,
      "metadata": {
        "id": "Z8Ml50ohHVqM"
      },
      "outputs": [],
      "source": [
        "estoque_fim_jan = [('BSA2199',396),('PPF5239',251),('BSA1212',989),('PPF2154',449),('BEB3410',241),('PPF8999',527),('EMB9591',601),('BSA2006',314),('EMB3604',469),('EMB2070',733),('PPF9018',339),('PPF1468',906),('BSA5819',291),('PPF8666',850),('BEB2983',353),('BEB5877',456),('PPF5008',963),('PPF3877',185),('PPF7321',163),('BSA8833',644),('PPF4980',421),('PPF3063',757),('BSA2089',271),('BSA8398',180),('EMB4622',515),('EMB9814',563),('PPF3784',229),('PPF2398',270),('BEB3211',181),('PPF8655',459),('PPF1874',799),('PPF8789',126),('PPF6324',375),('EMB9290',883),('BSA5516',555),('BSA8451',243),('BSA8213',423)]\n",
        "estoque_fim_fev = [('BSA2199',849),('PPF5239',877),('BSA1212',336),('PPF2154',714),('BEB3410',834),('PPF8999',201),('EMB9591',576),('BSA2006',985),('EMB3604',615),('EMB2070',182),('PPF9018',127),('PPF1468',212),('BSA5819',338),('PPF8666',751),('BEB2983',363),('BEB5877',916),('PPF5008',331),('PPF3877',744),('PPF7321',488),('BSA8833',277),('PPF4980',530),('PPF3063',796),('BSA2089',396),('BSA8398',478),('EMB4622',603),('EMB9814',784),('PPF3784',434),('PPF2398',896),('BEB3211',826),('PPF8655',748),('PPF1874',210),('PPF8789',891),('PPF6324',250),('EMB6618',611),('BSA3409',984),('BSA9866',870),('BSA1792',672)]\n",
        "estoque_fim_mar = [('BSA2199',772),('PPF5239',394),('BSA1212',409),('PPF2154',473),('BEB3410',831),('PPF8999',764),('EMB9591',942),('BSA2006',482),('EMB3604',745),('EMB2070',451),('PPF9018',608),('PPF1468',675),('BSA5819',431),('PPF8666',795),('BEB2983',439),('BEB5877',588),('PPF5008',442),('PPF3877',950),('PPF7321',606),('BSA8833',464),('PPF4980',819),('PPF3063',687),('BSA2089',253),('BSA8398',437),('EMB4622',769),('EMB9814',178),('PPF3784',996),('PPF2398',588),('BEB3211',247),('PPF8655',309),('PPF1874',305),('PPF8789',878),('PPF6324',826),('EMB6618',534),('BSA3409',705),('BSA9895',618),('BSA4319',690)]\n",
        "estoque_fim_abr = [('BSA2199',647),('PPF5239',292),('BSA1212',551),('PPF2154',802),('BEB3410',712),('PPF8999',603),('EMB9591',963),('BSA2006',481),('EMB3604',199),('EMB2070',635),('PPF9018',956),('PPF1468',161),('BSA5819',787),('PPF8666',771),('BEB2983',867),('BEB5877',539),('PPF5008',614),('PPF3877',715),('PPF7321',336),('BSA8833',961),('PPF4980',116),('PPF3063',876),('BSA2089',579),('BSA8398',814),('EMB4622',434),('EMB9814',981),('PPF3784',498),('PPF2398',498),('BEB3211',606),('PPF8655',168),('PPF1874',518),('PPF8789',157),('PPF6324',501),('EMB6618',932),('BSA3409',247),('BSA9895',287),('BSA4319',477)]\n",
        "\n",
        "def estoque_atualiza(*listas):\n",
        "    estoque_atualizado = []\n",
        "    for lista in listas:\n",
        "        for produto, estoque in lista:\n",
        "            estoque_atualizado.append(produto)\n",
        "        \n",
        "    estoque_atualizado = list(set(estoque_atualizado))\n",
        "\n",
        "    return estoque_atualizado\n",
        "\n",
        "print(estoque_atualiza(estoque_fim_jan,estoque_fim_fev,estoque_fim_mar,estoque_fim_abr))\n",
        "print(len(estoque_atualiza(estoque_fim_jan,estoque_fim_fev,estoque_fim_mar,estoque_fim_abr)))"
      ]
    },
    {
      "cell_type": "code",
      "execution_count": null,
      "metadata": {
        "id": "V1hrN6AqMEwK"
      },
      "outputs": [],
      "source": [
        "estoque_fim_jan = [('BSA2199',396),('PPF5239',251),('BSA1212',989),('PPF2154',449),('BEB3410',241),('PPF8999',527),('EMB9591',601),('BSA2006',314),('EMB3604',469),('EMB2070',733),('PPF9018',339),('PPF1468',906),('BSA5819',291),('PPF8666',850),('BEB2983',353),('BEB5877',456),('PPF5008',963),('PPF3877',185),('PPF7321',163),('BSA8833',644),('PPF4980',421),('PPF3063',757),('BSA2089',271),('BSA8398',180),('EMB4622',515),('EMB9814',563),('PPF3784',229),('PPF2398',270),('BEB3211',181),('PPF8655',459),('PPF1874',799),('PPF8789',126),('PPF6324',375),('EMB9290',883),('BSA5516',555),('BSA8451',243),('BSA8213',423)]\n",
        "estoque_fim_fev = [('BSA2199',849),('PPF5239',877),('BSA1212',336),('PPF2154',714),('BEB3410',834),('PPF8999',201),('EMB9591',576),('BSA2006',985),('EMB3604',615),('EMB2070',182),('PPF9018',127),('PPF1468',212),('BSA5819',338),('PPF8666',751),('BEB2983',363),('BEB5877',916),('PPF5008',331),('PPF3877',744),('PPF7321',488),('BSA8833',277),('PPF4980',530),('PPF3063',796),('BSA2089',396),('BSA8398',478),('EMB4622',603),('EMB9814',784),('PPF3784',434),('PPF2398',896),('BEB3211',826),('PPF8655',748),('PPF1874',210),('PPF8789',891),('PPF6324',250),('EMB6618',611),('BSA3409',984),('BSA9866',870),('BSA1792',672)]\n",
        "estoque_fim_mar = [('BSA2199',772),('PPF5239',394),('BSA1212',409),('PPF2154',473),('BEB3410',831),('PPF8999',764),('EMB9591',942),('BSA2006',482),('EMB3604',745),('EMB2070',451),('PPF9018',608),('PPF1468',675),('BSA5819',431),('PPF8666',795),('BEB2983',439),('BEB5877',588),('PPF5008',442),('PPF3877',950),('PPF7321',606),('BSA8833',464),('PPF4980',819),('PPF3063',687),('BSA2089',253),('BSA8398',437),('EMB4622',769),('EMB9814',178),('PPF3784',996),('PPF2398',588),('BEB3211',247),('PPF8655',309),('PPF1874',305),('PPF8789',878),('PPF6324',826),('EMB6618',534),('BSA3409',705),('BSA9895',618),('BSA4319',690)]\n",
        "estoque_fim_abr = [('BSA2199',647),('PPF5239',292),('BSA1212',551),('PPF2154',802),('BEB3410',712),('PPF8999',603),('EMB9591',963),('BSA2006',481),('EMB3604',199),('EMB2070',635),('PPF9018',956),('PPF1468',161),('BSA5819',787),('PPF8666',771),('BEB2983',867),('BEB5877',539),('PPF5008',614),('PPF3877',715),('PPF7321',336),('BSA8833',961),('PPF4980',116),('PPF3063',876),('BSA2089',579),('BSA8398',814),('EMB4622',434),('EMB9814',981),('PPF3784',498),('PPF2398',498),('BEB3211',606),('PPF8655',168),('PPF1874',518),('PPF8789',157),('PPF6324',501),('EMB6618',932),('BSA3409',247),('BSA9895',287),('BSA4319',477)]\n",
        "\n",
        "def atualiza_lista(*listas):\n",
        "    listax = []\n",
        "    for lista in listas:\n",
        "        for codigo, estoque in lista:\n",
        "            if  codigo not in listax:\n",
        "                listax.append(codigo)\n",
        "                #print(codigo)\n",
        "    return listax\n",
        "\n",
        "print(atualiza_lista(estoque_fim_jan,estoque_fim_fev,estoque_fim_mar,estoque_fim_abr))\n",
        "print(len(atualiza_lista(estoque_fim_jan,estoque_fim_fev,estoque_fim_mar,estoque_fim_abr)))"
      ]
    },
    {
      "cell_type": "code",
      "execution_count": null,
      "metadata": {
        "id": "MOQoCGbhOgUH"
      },
      "outputs": [],
      "source": [
        "def atualiza_lista(*listas):\n",
        "    for lista in listas:\n",
        "        print(lista)\n",
        "    print()\n",
        "    for codigo, estoque in lista:\n",
        "        print(codigo)\n",
        "    return\n",
        "\n",
        "atualiza_lista(estoque_fim_jan,estoque_fim_fev,estoque_fim_mar,estoque_fim_abr)"
      ]
    },
    {
      "cell_type": "markdown",
      "metadata": {
        "id": "Fecqdjp55xa_"
      },
      "source": [
        "\n",
        "#FOR"
      ]
    },
    {
      "cell_type": "markdown",
      "metadata": {
        "id": "-k6TYTiI5xa_"
      },
      "source": [
        "for i in range(len(lista)):\n",
        "    \n",
        "    print(lista[i])\n",
        "\n",
        "for item in lista:\n",
        "    \n",
        "    print(item)\n",
        "\n",
        "for letra in texto:\n",
        "\n",
        "    print(letra)\n"
      ]
    },
    {
      "cell_type": "code",
      "execution_count": null,
      "metadata": {
        "id": "JRxSnbIq5xbA"
      },
      "outputs": [],
      "source": [
        "lista = ['aaa','bbb','ccc','ddd','eee','fff','ggg','hhh','iii','jjj']\n",
        "\n",
        "#Limitando uma quantidade\n",
        "for item in lista[:4]:\n",
        "    print(item)"
      ]
    },
    {
      "cell_type": "code",
      "execution_count": null,
      "metadata": {
        "id": "N4IV4h7f1yj_"
      },
      "outputs": [],
      "source": [
        "#Funcionamento FOR\n",
        "for x in range(2):\n",
        "    for y in range(3):\n",
        "        print(x, y)"
      ]
    },
    {
      "cell_type": "code",
      "execution_count": null,
      "metadata": {
        "id": "p4O_uemCLC1Z"
      },
      "outputs": [],
      "source": [
        "#Uso do BREAK no FOR\n",
        "vendas = [160,170,150,105,205,199,176,203,182,145,133,156,166,188]\n",
        "meta = 140\n",
        "lista = []\n",
        "for venda in vendas:\n",
        "    if venda < meta:\n",
        "        lista.append(venda)\n",
        "        break\n",
        "    print(venda)\n",
        "\n",
        "print()\n",
        "print(lista)"
      ]
    },
    {
      "cell_type": "code",
      "execution_count": null,
      "metadata": {
        "id": "I3nkV0HRNK7F"
      },
      "outputs": [],
      "source": [
        "#Uso do CONTINUE no FOR\n",
        "vendas = [160,170,150,105,205,199,176,203,182,145,133,156,166,188]\n",
        "meta = 140\n",
        "lista = []\n",
        "for venda in vendas:\n",
        "    if venda < meta:\n",
        "        lista.append(venda)\n",
        "        continue\n",
        "    print(venda)\n",
        "\n",
        "print()\n",
        "print(lista)"
      ]
    },
    {
      "cell_type": "markdown",
      "metadata": {
        "id": "q95KXbYM5xbF"
      },
      "source": [
        "#WHILE"
      ]
    },
    {
      "cell_type": "markdown",
      "metadata": {
        "id": "yj1Vtbd45xbG"
      },
      "source": [
        "while true:\n",
        "\n",
        "    codigo…\n",
        "\n",
        "i = 0\n",
        "\n",
        "while I < 10:\n",
        "    \n",
        "    codigo…\n",
        "    i += 1\n"
      ]
    },
    {
      "cell_type": "code",
      "execution_count": null,
      "metadata": {
        "id": "W24Fn0tH5xbH"
      },
      "outputs": [],
      "source": [
        "opcao = 'S'\n",
        "nome = ''\n",
        "while opcao != 'N':\n",
        "    nome = str(input('Digite seu nome: '))\n",
        "    opcao = str(input('Cadastrar novo (S/N): ')).upper().strip()"
      ]
    },
    {
      "cell_type": "markdown",
      "metadata": {
        "id": "yrd4ym215xbH"
      },
      "source": [
        "#ENUMERATE"
      ]
    },
    {
      "cell_type": "code",
      "execution_count": null,
      "metadata": {
        "id": "a3hJY21v5a33"
      },
      "outputs": [],
      "source": [
        "estoque = [\n",
        "    [294, 125, 269, 208, 783, 852, 259, 371, 47, 102, 386, 87, 685, 686, 697, 941, 163, 631, 7, 714, 218, 670, 453],\n",
        "    [648, 816, 310, 555, 992, 643, 226, 319, 501, 23, 239, 42, 372, 441, 126, 645, 927, 911, 761, 445, 974, 2, 549],\n",
        "    [832, 683, 784, 449, 977, 705, 198, 937, 729, 327, 339, 10, 975, 310, 95, 689, 137, 795, 211, 538, 933, 751, 522],\n",
        "    [837, 168, 570, 397, 53, 297, 966, 714, 72, 737, 259, 629, 625, 469, 922, 305, 782, 243, 841, 848, 372, 621, 362],\n",
        "    [429, 242, 53, 985, 406, 186, 198, 50, 501, 870, 781, 632, 781, 105, 644, 509, 401, 88, 961, 765, 422, 340, 654],\n",
        "]\n",
        "fabricas = ['Lira Manufacturing', 'Fábrica Hashtag', 'Python Manufaturas', 'Produções e Cia', 'Manufatura e Cia']\n",
        "nivel_minimo = 50\n",
        "\n",
        "#Selecionar fábricas que possuem produtos com estoque abaixo do nível mínimo\n",
        "#Fazer aparecer somente uma vez cada fábrica, com os itens com baixo estoque\n",
        "lista_temp = []\n",
        "for i, lista in enumerate(estoque):\n",
        "    lista_temp.clear()\n",
        "   for j, item in enumerate(lista):\n",
        "       if item <= nivel_minimo:\n",
        "           lista_temp.append(j)\n",
        "           print('A fábrica {} - {} - está com estoque reduzido no item {}, tendo somente {}'.format(i+1,fabricas[i].upper(),j,item))\n",
        "           #break\n",
        "\n",
        "# for i in fabricas:\n",
        "#     print(i)\n",
        "\n",
        "####código solução Alcebiades aula 8 - For\n",
        "# baixo_nivel = [ ]\n",
        "# temp = [ ]\n",
        "# for i in range( len( fabricas ) ):\n",
        "#     cont = 0\n",
        "#     temp.clear( )\n",
        "#     for x in estoque[ i ]:\n",
        "#         if x < nivel_minimo:\n",
        "#             cont += 1\n",
        "#             temp.append( x )\n",
        "#             baixo_nivel = temp[:]\n",
        "#     if cont > 0:\n",
        "#         print(f'A fabrica { fabricas[i].upper() } tem { cont } produtos abaixo do estoque { sorted( baixo_nivel ) } volumes..')\n"
      ]
    },
    {
      "cell_type": "markdown",
      "source": [
        "#MÓDULOS/BIBLIOTÉCAS"
      ],
      "metadata": {
        "id": "ekYsZfUJWC-G"
      }
    },
    {
      "cell_type": "markdown",
      "metadata": {
        "id": "Ou7u7OWY5xbI"
      },
      "source": [
        "#TIME"
      ]
    },
    {
      "cell_type": "code",
      "execution_count": null,
      "metadata": {
        "id": "skP7T60BrnXW"
      },
      "outputs": [],
      "source": [
        "import webbrowser\n",
        "import time\n",
        "\n",
        "#webbrowser.open('https://google.com')\n",
        "\n",
        "minha_hora = time.time()\n",
        "print('time',minha_hora)\n",
        "\n",
        "hora_inicio = time.time()\n",
        "for i in range(1000000):\n",
        "    pass\n",
        "hora_fim = time.time()\n",
        "\n",
        "print('Tempo',hora_fim - hora_inicio)\n",
        "\n",
        "minha_data = time.ctime()\n",
        "print('ctime',minha_data)\n",
        "\n",
        "print('iniciando')\n",
        "time.sleep(0)\n",
        "print('concluído')\n",
        "\n",
        "data_atual = time.gmtime()\n",
        "print(data_atual)\n",
        "#dia = data_atual[2]\n",
        "dia = data_atual.tm_mday\n",
        "#mes = data_atual[1]\n",
        "mes = data_atual.tm_mon\n",
        "#ano = data_atual[0]\n",
        "ano = data_atual.tm_year\n",
        "print('Hoje é {}/{}/{}'.format(dia,mes,ano))\n",
        "print()\n",
        "data_atual2 = time.localtime()\n",
        "print(data_atual2)\n",
        "dia = data_atual2[2]\n",
        "#dia = data_atual2.tm_mday\n",
        "mes = data_atual2[1]\n",
        "#mes = data_atual2.tm_mon\n",
        "ano = data_atual2[0]\n",
        "#ano = data_atual2.tm_year\n",
        "print('Hoje é {}/{}/{}'.format(dia,mes,ano))"
      ]
    },
    {
      "cell_type": "markdown",
      "source": [
        "#DATETIME"
      ],
      "metadata": {
        "id": "4ijSdFByA24U"
      }
    },
    {
      "cell_type": "code",
      "source": [
        "from datetime import datetime\n",
        "\n",
        "timestamp = 1638154364\n",
        "dt_object = datetime.fromtimestamp(timestamp)\n",
        "\n",
        "print(\"dt_object =\", dt_object)\n",
        "print(\"type(dt_object) =\", type(dt_object))"
      ],
      "metadata": {
        "id": "oh4qnPLdA33S"
      },
      "execution_count": null,
      "outputs": []
    },
    {
      "cell_type": "code",
      "source": [
        "from datetime import date, datetime\n",
        "\n",
        "data = datetime.strptime('26/08/2018', '%d/%m/%Y').date()\n",
        "\n",
        "print(data)\n",
        "\n",
        "dataFormatada = data.strftime('%d/%m/%Y')\n",
        "\n",
        "print(dataFormatada)"
      ],
      "metadata": {
        "colab": {
          "base_uri": "https://localhost:8080/"
        },
        "id": "GcUyh-ZJbeQH",
        "outputId": "b8203af2-c344-45fb-8d68-88ee241bf492"
      },
      "execution_count": null,
      "outputs": [
        {
          "output_type": "stream",
          "name": "stdout",
          "text": [
            "2018-08-26\n",
            "26/08/2018\n"
          ]
        }
      ]
    },
    {
      "cell_type": "markdown",
      "metadata": {
        "id": "W9vDVKK25xbI"
      },
      "source": [
        "#BIBLIOTECA COLLECTIONS"
      ]
    },
    {
      "cell_type": "code",
      "execution_count": null,
      "metadata": {
        "id": "_NmTnlxD8LEM"
      },
      "outputs": [],
      "source": [
        "#import collections\n",
        "from collections import Counter\n",
        "\n",
        "vendas_tecnologia = {'notebook asus': 2450, 'iphone': 15000, 'samsung galaxy': 12000, 'tv samsung': 10000, 'ps5': 14300, 'tablet': 1720, 'notebook dell': 17000, 'ipad': 1000, 'tv philco': 2500, 'notebook hp': 1000}\n",
        "\n",
        "top3 = Counter(vendas_tecnologia)\n",
        "\n",
        "print(top3.most_common(4))"
      ]
    },
    {
      "cell_type": "markdown",
      "metadata": {
        "id": "S14pVAJz5xbJ"
      },
      "source": [
        "#MATPLOTLIB"
      ]
    },
    {
      "cell_type": "code",
      "execution_count": null,
      "metadata": {
        "id": "BbB3HvHf8JfQ",
        "outputId": "ed4d8691-91b2-4d32-cece-8d3ffa412905",
        "colab": {
          "base_uri": "https://localhost:8080/",
          "height": 314
        }
      },
      "outputs": [
        {
          "output_type": "stream",
          "name": "stdout",
          "text": [
            "2762\n"
          ]
        },
        {
          "output_type": "execute_result",
          "data": {
            "text/plain": [
              "<function matplotlib.pyplot.show>"
            ]
          },
          "metadata": {},
          "execution_count": 1
        },
        {
          "output_type": "display_data",
          "data": {
            "text/plain": [
              "<Figure size 432x288 with 1 Axes>"
            ],
            "image/png": "[encoded data removed]"
          },
          "metadata": {
            "needs_background": "light"
          }
        }
      ],
      "source": [
        "import matplotlib.pyplot as plt\n",
        "\n",
        "vendas_meses = [1500, 1727, 1350, 999, 1050, 1027, 1022, 1500, 2000, 2362, 2100, 2762]\n",
        "vendas_meses1 = [2500, 1827, 1650, 1999, 2050, 2027, 3022, 1590, 2900, 2762, 2105, 1762]\n",
        "meses = ['jan', 'fev', 'mar', 'abr', 'mai', 'jun', 'jul', 'ago', 'set', 'out', 'nov', 'dez']\n",
        "print(max(vendas_meses))\n",
        "plt.plot(meses,vendas_meses, linewidth=2.0,color='Blue')\n",
        "plt.plot(meses,vendas_meses1, linewidth=2.0,color='Red')\n",
        "#plt.bar(meses,vendas_meses)\n",
        "plt.xlabel('Meses')\n",
        "plt.ylabel('Vendas')\n",
        "plt.axis([0,12,0,max(vendas_meses)+500])\n",
        "plt.axis([0,12,0,max(vendas_meses)+500])\n",
        "plt.show"
      ]
    },
    {
      "cell_type": "markdown",
      "metadata": {
        "id": "SskoZ5LQ5xbK"
      },
      "source": [
        "#KEYBOARD"
      ]
    },
    {
      "cell_type": "code",
      "execution_count": null,
      "metadata": {
        "id": "x7_MYFTMpJbX"
      },
      "outputs": [],
      "source": [
        "import keyboard\n",
        "import time\n",
        "\n",
        "keyboard.press_and_release('CTRL + T')\n",
        "time.sleep(3)\n",
        "keyboard.write('www.vindi.com.br')\n",
        "keyboard.press_and_release('ENTER')"
      ]
    },
    {
      "cell_type": "markdown",
      "metadata": {
        "id": "HR5GJqn45xbK"
      },
      "source": [
        "#LIST COMPREHENSION\n",
        "\n",
        "### lista = [expressao for item in iterable]\n",
        "### lista = [expressao for item in iterable if item > 100] -> filtro\n",
        "### lista = [expressao if item > 100 else 0 for item in iterable] -> preenche com condição\n",
        "\n",
        "List Comprehension nada mais é do que uma forma rápida e eficiente de criar uma lista a partir de outra lista. Por exemplo, pense em uma lista no Python: [1,2,3,4,5] . Agora imagine que você precisa multiplicar todos os números dessa lista por 5 e colocar todos os resultados em uma nova lista."
      ]
    },
    {
      "cell_type": "code",
      "execution_count": null,
      "metadata": {
        "id": "uIhtbwYK5xbK"
      },
      "outputs": [],
      "source": [
        "preco_produtos = [100, 150, 300, 5500]\n",
        "produtos = ['vinho','cafeteira','microondas','iphone']\n",
        "\n",
        "impostos = []\n",
        "for item in preco_produtos:\n",
        "    impostos.append(item * 0.3)\n",
        "print(impostos)\n",
        "\n",
        "\n",
        "impostos = [item * 0.3 for item in preco_produtos]\n",
        "print(impostos)\n",
        "\n",
        "\n",
        "def calcular_imposto(preco, imposto):\n",
        "    return preco * imposto\n",
        "\n",
        "impostos = [calcular_imposto(preco, 0.3) for preco in preco_produtos]\n",
        "print(impostos)\n"
      ]
    },
    {
      "cell_type": "code",
      "execution_count": null,
      "metadata": {
        "id": "LGBsrwr55xbL"
      },
      "outputs": [],
      "source": [
        "lista_precos = [100,150,300,5500]\n",
        "\n",
        "imposto = 0.5\n",
        "lista = []\n",
        "for precos in lista_precos:\n",
        "    lista.append(precos * imposto)\n",
        "print('lista-1',lista)\n",
        "    \n",
        "lista = [preco*imposto for preco in lista_precos]\n",
        "print('lista-2',lista)"
      ]
    },
    {
      "cell_type": "code",
      "execution_count": null,
      "metadata": {
        "id": "G_UP2DJX5xbL"
      },
      "outputs": [],
      "source": [
        "vendas_produtos = [1500,150,2100,1950]\n",
        "produtos = ['vinho','cafeteira','microondas','iphone']\n",
        "\n",
        "lista_aux = list(zip(vendas_produtos,produtos))\n",
        "lista_aux.sort(reverse=True)\n",
        "print(lista_aux)\n"
      ]
    },
    {
      "cell_type": "markdown",
      "metadata": {
        "id": "6REIHhn85xbL"
      },
      "source": [
        "### Digamos que você está analisando as vendas de produtos de uma empresa de varejo.\n",
        "\n",
        "### Essa lista tem: (produto, vendas de 2019, vendas de 2020) para cada produto.\n",
        "\n",
        "### Crie uma lista com as vendas de 2019.\n",
        "\n",
        "### Agora, qual o maior valor de vendas de 2019?\n",
        "\n",
        "### E se eu quisesse descobrir o produto que mais vendeu em 2019? Temos 2 formas de fazer, refazendo o list comprehension ou consultando a lista original"
      ]
    },
    {
      "cell_type": "code",
      "execution_count": null,
      "metadata": {
        "id": "g-mu0ryr5xbL"
      },
      "outputs": [],
      "source": [
        "vendas_produtos = [('iphone', 558147, 951642), ('galaxy', 712350, 244295), ('ipad', 573823, 26964), ('tv', 405252, 787604), ('máquina de café', 718654, 867660), ('kindle', 531580, 78830), ('geladeira', 973139, 710331), ('adega', 892292, 646016), ('notebook dell', 422760, 694913), ('notebook hp', 154753, 539704), ('notebook asus', 887061, 324831), ('microsoft surface', 438508, 667179), ('webcam', 237467, 295633), ('caixa de som', 489705, 725316), ('microfone', 328311, 644622), ('câmera canon', 591120, 994303)]\n",
        "# lista_vendas2019 = []\n",
        "\n",
        "# for produto, vendas2019, vendas2020 in vendas_produtos:\n",
        "#     lista_vendas2019.append([vendas2019,produto])\n",
        "# lista_vendas2019.sort(reverse=True)\n",
        "\n",
        "# print(max(lista_vendas2019))"
      ]
    },
    {
      "cell_type": "code",
      "execution_count": null,
      "metadata": {
        "id": "j6ZtLoo25xbM"
      },
      "outputs": [],
      "source": [
        "lista_produtosvendas2019 = [max((vendas2019,produto) for produto, vendas2019, vendas2020 in vendas_produtos)]\n",
        "#lista_produtosvendas2019 = [(vendas2019,produto) for produto, vendas2019, vendas2020 in vendas_produtos]\n",
        "lista_produtosvendas2019.sort(reverse=True)\n",
        "print(lista_produtosvendas2019)\n",
        "#print(max(lista_produtosvendas2019))"
      ]
    },
    {
      "cell_type": "markdown",
      "metadata": {
        "id": "HZ9gSQ6R5xbM"
      },
      "source": [
        "## Lista dos produtos que atingiram a meta"
      ]
    },
    {
      "cell_type": "code",
      "execution_count": null,
      "metadata": {
        "id": "mUpnL9WH5xbM"
      },
      "outputs": [],
      "source": [
        "meta = 1000\n",
        "vendas_produtos = [1500,150,2100,1950]\n",
        "produtos = ['vinho', 'cafeteira', 'microondas', 'iphone']\n",
        "\n",
        "lista_meta_atingida = []\n",
        "for i, produto in enumerate(produtos):\n",
        "    if vendas_produtos[i] > meta:\n",
        "        lista_meta_atingida.append(produto)\n",
        "        \n",
        "print(lista_meta_atingida)"
      ]
    },
    {
      "cell_type": "markdown",
      "source": [
        "###List Comprehension com filtro (if)"
      ],
      "metadata": {
        "id": "j_iidIVYmy0X"
      }
    },
    {
      "cell_type": "code",
      "execution_count": null,
      "metadata": {
        "id": "k4wc7Mxb5xbM"
      },
      "outputs": [],
      "source": [
        "lista_meta_atingida2 = [produto for i, produto in enumerate(produtos) if vendas_produtos[i] > meta]\n",
        "print(lista_meta_atingida2)"
      ]
    },
    {
      "cell_type": "markdown",
      "metadata": {
        "id": "mIX_FNZd5xbN"
      },
      "source": [
        "## Selecionar os cpfs dos clientes com mais de 20 dias atrasados"
      ]
    },
    {
      "cell_type": "code",
      "execution_count": null,
      "metadata": {
        "id": "WziR2kZ75xbN"
      },
      "outputs": [],
      "source": [
        "clientes_devedores = [('462.286.561-65',14405,24),('251.569.170-81',16027,1),('297.681.579-21',8177,28),('790.223.154-40',9585,10),('810.442.219-10',18826,29),('419.210.299-79',11421,15),('908.507.760-43',12445,24),('911.238.364-17',1345,4),('131.115.339-28',11625,8),('204.169.467-27',5364,22),('470.806.376-11',932,29),('938.608.980-69',13809,19),('554.684.165-26',11227,2),('119.225.846-34',4475,9),('358.890.858-95',13932,20),('786.547.940-70',17048,25),('468.487.741-94',2902,8),('540.685.100-32',5806,21),('379.729.796-80',7622,24),('980.173.363-94',13167,24),('833.285.374-56',19581,24),('103.669.436-50',17126,4),('386.836.124-46',18825,11),('588.404.964-15',1545,30),('600.556.177-18',1921,7),('670.346.230-99',18079,28),('771.352.915-13',16581,23),('430.314.324-46',13942,24),('629.507.759-51',17951,11),('348.683.225-73',12424,10),('406.133.151-17',5888,30),('310.985.894-64',17316,30),('964.317.132-30',18818,30),('845.331.524-14',14284,13),('781.995.738-18',19369,29),('921.558.128-63',3206,27),('941.386.982-65',10228,26),('551.135.290-10',18822,18),('537.124.578-35',12670,6),('119.383.169-76',790,20),('938.473.410-98',8851,5),('279.775.182-54',5212,20),('210.872.954-53',13569,8),('684.995.531-65',8649,21),('653.886.282-57',504,28),('973.580.738-53',2533,9),('285.864.892-85',8200,21),('777.154.423-98',10336,8),('769.786.401-34',3233,12),('521.566.565-97',11882,14),('491.799.681-92',653,8),('344.357.819-36',8856,18),('265.362.581-99',8962,8),('331.410.527-56',18516,18),('143.188.958-61',7234,29),('751.630.472-61',13552,6),('714.707.807-80',2898,7),('585.584.932-83',239,25),('165.554.107-13',9572,23),('718.225.984-87',10534,25),('611.715.653-32',3210,11),('397.994.286-79',13651,24),('967.160.575-69',8997,25),('369.750.998-94',13952,2),('767.400.554-79',18320,11),('171.104.286-74',5821,21),('152.817.649-24',3358,30),('645.308.846-62',15176,25),('273.884.570-92',4436,13),('888.818.341-45',15730,3),('577.836.712-40',14670,16),('513.529.919-95',4002,1),('201.476.809-95',17442,21),('657.816.571-87',1582,2),('810.494.975-87',2157,9),('531.749.410-17',12355,18),('486.290.887-24',18576,26),('432.376.642-62',8027,23),('207.274.437-91',5125,29),('634.244.673-72',11387,15),('346.871.172-72',8105,23),('166.330.605-50',7865,11),('829.181.731-94',2425,8),('197.305.464-63',9681,8),('887.877.706-59',15681,10),('847.598.885-51',323,23),('817.170.984-26',5169,27),('591.397.550-29',13362,25),('872.733.198-95',5756,18),('615.629.238-82',11678,23),('194.782.846-77',11044,17),('146.392.158-88',6848,4),('240.427.458-70',3906,25),('583.662.427-52',3306,5),('841.627.523-64',4778,4),('985.337.216-77',15308,4),('912.410.722-57',11683,6),('700.720.266-23',12638,21),('605.405.529-53',3831,3),('383.256.402-25',2599,10),('248.103.486-68',9121,1),('261.974.594-90',2139,26),('297.126.704-91',18529,16),('680.569.318-52',10176,23),('296.334.647-38',225,13),('200.761.898-70',16244,20),('258.232.687-17',19462,18),('597.295.672-38',18840,11),('894.479.102-52',11375,12),('556.156.341-36',16269,23),('987.874.553-86',11253,17),('248.927.998-94',6510,1),('852.796.660-25',2662,23),('741.370.204-36',9303,16),('536.714.951-95',2877,23),('320.395.830-44',14554,5),('520.645.562-80',17547,24),('553.700.674-28',3147,14),('913.525.896-32',17651,28),('750.456.495-86',11524,9),('246.171.748-38',15184,4),('760.248.897-67',4953,25),('920.890.990-46',17172,20),('805.469.913-50',17500,21),('878.594.225-48',6255,3),('356.715.924-36',3454,13),('847.150.802-96',8602,22),('625.846.640-53',10888,19),('539.300.108-41',11225,21),('549.151.467-76',1286,21),('738.451.908-29',18905,22),('987.288.834-69',17533,25),('898.532.296-94',9719,11),('620.531.607-13',13584,10),('169.415.202-43',1871,29),('757.885.355-97',18150,28),('252.581.376-21',2497,3),('177.937.460-78',7178,8),('523.895.611-54',9878,26),('883.680.201-23',16761,3),('936.678.268-71',11017,9),('871.912.703-73',1754,9),('957.749.478-56',6914,9),('725.636.354-80',8605,13),('898.316.244-33',14363,12),('894.748.325-28',2764,3),('647.106.954-60',1482,6),('628.716.937-98',14107,8),('332.677.483-83',19146,15),('186.870.928-82',17050,12),('216.248.879-71',4384,16),('287.929.269-44',4894,19),('278.335.932-42',17220,13),('824.107.287-13',11797,7),('535.354.954-30',9195,22),('311.762.241-12',13871,2),('209.759.133-88',13580,21),('505.728.766-53',16950,13),('879.471.988-23',17427,14),('772.329.947-39',3462,8),('321.123.241-10',2592,22),('407.342.963-78',11435,21),('786.935.637-47',14240,9),('461.791.351-55',142,2),('770.920.161-42',1247,24),('639.870.185-59',6430,10),('815.943.237-83',19550,22),('141.774.255-61',17866,13),('379.995.400-37',9503,29),('261.103.178-64',19167,13),('495.461.913-57',12265,29),('498.848.750-79',14549,16),('578.770.731-84',1462,5),('408.987.269-72',5647,28),('191.970.336-40',6313,15),('761.137.848-34',10654,23),('810.512.154-21',14928,1),('256.371.788-38',7085,2),('216.401.188-57',1531,23),('956.318.620-43',6327,22),('986.516.478-33',3866,25),('105.665.555-60',7118,4),('259.228.430-72',1601,8),('133.627.971-58',10142,14),('327.988.845-70',14985,23),('363.167.322-63',17236,7),('189.986.406-38',16888,18),('661.194.373-45',7824,1),('805.728.877-53',514,10),('887.826.412-21',15977,24),('122.975.174-32',9409,25),('456.550.370-55',19922,18),('388.243.133-66',19785,17),('208.788.890-61',11893,22),('881.332.662-49',6344,16),('912.349.944-52',6858,15),('534.904.583-32',9559,11),('825.175.334-25',19805,15),('339.191.298-46',13325,8),('569.993.915-78',4339,15)]\n",
        "#print(len(clientes_devedores))\n",
        "\n",
        "lista_inadimplentes = []\n",
        "for cpf, valor, dias in clientes_devedores:\n",
        "    if dias > 20:\n",
        "        lista_inadimplentes.append(cpf)\n",
        "print(len(lista_inadimplentes))\n",
        "print(lista_inadimplentes)\n",
        "\n",
        "# lista_inadimplentes2 = [cpf for cpf, valor, dias in clientes_devedores if dias > 20]\n",
        "# print(len(lista_inadimplentes2))\n",
        "# print(lista_inadimplentes2)\n"
      ]
    },
    {
      "cell_type": "markdown",
      "metadata": {
        "id": "dXAzjGnR5xbP"
      },
      "source": [
        "## Digamos que eu esteja analisando os vendedores de uma loja e queira criar uma lista para enviar para o RH com o bônus de cada vendedor.\n",
        "## O bônus é dado por 10% do valor de vendas dele, caso ele tenha batido a meta"
      ]
    },
    {
      "cell_type": "code",
      "execution_count": null,
      "metadata": {
        "id": "ST9RW4pD5xbP"
      },
      "outputs": [],
      "source": [
        "vendedores_dic = {'Maria': 1200, 'José': 300, 'Antônio': 800, 'João': 1500, 'Francisco': 1900, 'Ana': 2750, 'Luiz': 400, 'Paulo': 20, 'Carlos': 23, 'Manoel': 70, 'Pedro': 90, 'Francisca': 80, 'Marcos': 1100, 'Raimundo': 999, 'Sebastião': 900, 'Antônia': 880, 'Marcelo': 870, 'Jorge': 50, 'Márcia': 1111, 'Geraldo': 120, 'Adriana': 300, 'Sandra': 450, 'Luis': 800}\n",
        "meta = 1000\n",
        "\n",
        "bonus = []\n",
        "for vendedor in vendedores_dic:\n",
        "    if vendedores_dic[vendedor] > meta:\n",
        "        bonus.append(vendedores_dic[vendedor] * 0.1)\n",
        "    else:\n",
        "        bonus.append(0)\n",
        "        \n",
        "print(bonus)"
      ]
    },
    {
      "cell_type": "code",
      "execution_count": null,
      "metadata": {
        "id": "2UtA6QTJ5xbQ"
      },
      "outputs": [],
      "source": [
        "bonus2 = [vendedores_dic[vendedor] * 0.1 if vendedores_dic[vendedor] > meta else 0 for vendedor in vendedores_dic]\n",
        "print(bonus2)"
      ]
    },
    {
      "cell_type": "markdown",
      "metadata": {
        "id": "vEsulo6b5xbQ"
      },
      "source": [
        "## 1. Tamanho do Pedido de Compras\n",
        "\n",
        "Nesse exercício vamos avaliar o estoque de uma empresa. Vamos considerar que todos os produtos dessa empresa são comprados em lotes de 500 unidades.\n",
        "\n",
        "- Caso o estoque esteja abaixo de 1000 unidades, devemos fazer um pedido de 500 unidades.\n",
        "- Caso o estoque esteja abaixo de 200 unidades, devemos fazer um pedido de 1000 unidades.\n"
      ]
    },
    {
      "cell_type": "code",
      "execution_count": null,
      "metadata": {
        "id": "hw7dDeqO5xbQ"
      },
      "outputs": [],
      "source": [
        "estoque = [('BSA2199',396),('PPF5239',251),('BSA1212',989),('PPF2154',449),('BEB3410',241),('PPF8999',527),('EMB9591',601),('BSA2006',314),('EMB3604',469),('EMB2070',733),('PPF9018',339),('PPF1468',906),('BSA5819',291),('PPF8666',850),('BEB2983',353),('BEB5877',456),('PPF5008',963),('PPF3877',185),('PPF7321',163),('BSA8833',644),('PPF4980',421),('PPF3063',757),('BSA2089',271),('BSA8398',180),('EMB4622',515),('EMB9814',563),('PPF3784',229),('PPF2398',270),('BEB3211',181),('PPF8655',459),('PPF1874',799),('PPF8789',126),('PPF6324',375),('EMB9290',883),('BSA5516',555),('BSA8451',243),('BSA8213',423)]\n",
        "\n",
        "pedidos = []\n",
        "for produto, qtde in estoque:\n",
        "    if qtde < 200:\n",
        "        pedidos.append(1000)\n",
        "    else:\n",
        "        pedidos.append(500)\n",
        "print(pedidos)\n",
        "\n",
        "pedidos2 = [(produto,1000) if qtde < 200 else (produto,500) for produto, qtde in estoque]\n",
        "print(pedidos2)"
      ]
    },
    {
      "cell_type": "markdown",
      "metadata": {
        "id": "B12vXMFH5xbR"
      },
      "source": [
        "### Vamos calcular quantos % das vendas o meu top 5 produtos representa das vendas totais"
      ]
    },
    {
      "cell_type": "code",
      "execution_count": null,
      "metadata": {
        "id": "jEn2Zqk05xbT"
      },
      "outputs": [],
      "source": [
        "produtos = ['coca', 'pepsi', 'guarana', 'skol', 'brahma', 'agua', 'del valle', 'dolly', 'red bull', 'cachaça', 'vinho tinto', 'vodka', 'vinho branco', 'tequila', 'champagne', 'gin', 'guaracamp', 'matte', 'leite de castanha', 'leite', 'jurupinga', 'sprite', 'fanta']\n",
        "vendas = [1200, 300, 800, 1500, 1900, 2750, 400, 20, 23, 70, 90, 80, 1100, 999, 900, 880, 870, 50, 1111, 120, 300, 450, 800]\n",
        "top5 = ['agua', 'brahma', 'skol', 'coca', 'leite de castanha']\n",
        "\n",
        "#soma_vendas = sum(vendas)\n",
        "soma_top5 = 0\n",
        "for i, produto in enumerate(produtos):\n",
        "    if produto in top5:\n",
        "        soma_top5 += vendas[i]\n",
        "print(soma_top5)\n",
        "print('Os TOP5 produtos representam {:%} do total da vendas'.format(soma_top5 / sum(vendas)))\n"
      ]
    },
    {
      "cell_type": "code",
      "execution_count": null,
      "metadata": {
        "id": "oHSkYSmA5xbU"
      },
      "outputs": [],
      "source": [
        "resultado_top5 = sum(vendas[i] for i, produto in enumerate(produtos) if produto in top5)\n",
        "print(resultado_top5)\n",
        "print('Os TOP5 produtos representam {:%} do total da vendas'.format(resultado_top5 / sum(vendas)))"
      ]
    },
    {
      "cell_type": "code",
      "execution_count": null,
      "metadata": {
        "id": "whdcsIqv5xbU"
      },
      "outputs": [],
      "source": [
        "top5 = sum(venda for i, venda in enumerate(sorted(vendas,reverse=True)) if i < 5)\n",
        "\n",
        "print(sorted(vendas,reverse=True))\n",
        "print(top5/sum(vendas))    "
      ]
    },
    {
      "cell_type": "markdown",
      "metadata": {
        "id": "GDCWdXQT5xbU"
      },
      "source": [
        "#SORT"
      ]
    },
    {
      "cell_type": "code",
      "execution_count": null,
      "metadata": {
        "id": "6xetlozB5xbV"
      },
      "outputs": [],
      "source": [
        "produtos = ['iphone', 'galaxy', 'Ipad', 'tv', 'Máquina de café', 'kindle', 'geladeira', 'adega', 'notebook dell', 'notebook hp', 'notebook asus', 'microsoft surface', 'webcam', 'caixa de som', 'microfone', 'câmera canon']\n",
        "produtos.sort(key=str.casefold)\n",
        "print(produtos)"
      ]
    },
    {
      "cell_type": "code",
      "execution_count": null,
      "metadata": {
        "id": "a7kUopRk5xbV"
      },
      "outputs": [],
      "source": [
        "def segundoitem(lista):\n",
        "    return lista[0]\n",
        "\n",
        "vendas_produtos = {'vinho': 100,'cafeteira':150,'microondas':300,'iphone':5500}\n",
        "lista_produtos = list(vendas_produtos.items())\n",
        "lista_produtos.sort(key=segundoitem)\n",
        "print(lista_produtos)"
      ]
    },
    {
      "cell_type": "markdown",
      "metadata": {
        "id": "MjVzt2hP5xbV"
      },
      "source": [
        "#MAP\n",
        "\n",
        "Podemos usar a função integrada do Python, map() , para aplicar uma função a cada item em um iterável (como uma lista ou um dicionário) e retornar um novo iterador para recuperar os resultados. map() retorna um objeto map (um iterador), que podemos usar em outras partes do nosso programa."
      ]
    },
    {
      "cell_type": "code",
      "execution_count": null,
      "metadata": {
        "id": "9shox0Tv5xbV"
      },
      "outputs": [],
      "source": [
        "def ajusta_codigos(codigo):\n",
        "    codigo = codigo.strip()\n",
        "    codigo = codigo.replace(' ','')\n",
        "    codigo = codigo.upper()\n",
        "    return codigo\n",
        "\n",
        "cod_produtos = [' ABC12 ', 'abc34   ', '   A bC37 ', 'AbC 13  4', 'A A c 1 9 1 aaBB c']\n",
        "\n",
        "cod_produtos = list(map(ajusta_codigos,cod_produtos))\n",
        "print(cod_produtos)\n"
      ]
    },
    {
      "cell_type": "markdown",
      "metadata": {
        "id": "nvkmLJSc5xbV"
      },
      "source": [
        "#LAMBDA\n",
        "\n",
        "### variável = lambda parâmetro: expressão\n",
        "\n",
        "As funções Lambda são chamadas de funções anônimas, mas o que são elas? Nada mais são do que funções que o usuário não precisa definir, ou seja, não vai precisar escrever a função e depois utilizá-la dentro do código"
      ]
    },
    {
      "cell_type": "code",
      "execution_count": null,
      "metadata": {
        "id": "fEB_pra35xbW"
      },
      "outputs": [],
      "source": [
        "def minha_funcao(num):\n",
        "    return num * 2\n",
        "\n",
        "print(minha_funcao(5))\n",
        "\n",
        "minha_funcao2 = lambda num: num * 2\n",
        "print(minha_funcao2(5))\n",
        "\n",
        "imposto = 0.3\n",
        "\n",
        "calcula_preco = lambda preco: preco * (1 + imposto)\n",
        "print(calcula_preco(100))"
      ]
    },
    {
      "cell_type": "code",
      "execution_count": null,
      "metadata": {
        "id": "VlRGAKV_5xbW"
      },
      "outputs": [],
      "source": [
        "vendas_tecnologia = {'notebook asus': 2450, 'iphone': 4500, 'samsung galaxy': 3000, 'tv samsung': 1000, 'ps5': 3000, 'tablet': 1000, 'notebook dell': 3000, 'ipad': 3000, 'tv philco': 800, 'notebook hp': 1700}\n",
        "\n",
        "def calcula_precos(valor):\n",
        "    return valor * (1 + 0.3)\n",
        "    \n",
        "novos_precos = list(map(calcula_precos,vendas_tecnologia.values()))\n",
        "print(novos_precos)\n",
        "\n",
        "novos_precos2 = list(map(lambda valor: valor * (1 + 0.3), vendas_tecnologia.values()))\n",
        "print(novos_precos2)\n",
        "\n"
      ]
    },
    {
      "cell_type": "markdown",
      "metadata": {
        "id": "95lYSvdT5xbW"
      },
      "source": [
        "# FILTER\n",
        "\n",
        "-> Retorna True ou False\n",
        "\n",
        "A função integrada filter() do Python pode ser usada para criar um novo iterador a partir de um iterável existente (como uma list a ou um dicionário) que irá filtrar de forma eficiente os elementos usando uma função que fornecemos."
      ]
    },
    {
      "cell_type": "code",
      "execution_count": null,
      "metadata": {
        "id": "yvLOUv0v5xbW"
      },
      "outputs": [],
      "source": [
        "def ehmaior2000(item):\n",
        "    return item[1] > 2000\n",
        "\n",
        "produto_acima2000 = list(filter(ehmaior2000,vendas_tecnologia.items()))\n",
        "print(produto_acima2000)\n",
        "\n",
        "produto_acima2000_2 = list(filter(lambda valor: valor[1] > 2000, vendas_tecnologia.items()))\n",
        "print(produto_acima2000_2)"
      ]
    },
    {
      "cell_type": "markdown",
      "metadata": {
        "id": "DZsbib6z5xbW"
      },
      "source": [
        "#LAMBDA CONSTRUTOR/GERADOR DE FUNÇÕES"
      ]
    },
    {
      "cell_type": "code",
      "execution_count": null,
      "metadata": {
        "id": "RKXLKTW95xbW"
      },
      "outputs": [],
      "source": [
        "def calcula_imposto(imposto):\n",
        "    return lambda preco: preco * (1 + imposto)\n",
        "\n",
        "# imp produtos 0.1\n",
        "# imp serviços 0.15\n",
        "# imp royalities 0.25\n",
        "\n",
        "preco_produtos = calcula_imposto(0.1)\n",
        "preco_servicos = calcula_imposto(0.15)\n",
        "preco_royalities = calcula_imposto(0.25)\n",
        "\n",
        "print(preco_produtos(100))\n",
        "print(preco_servicos(100))\n",
        "print(preco_royalities(100))"
      ]
    },
    {
      "cell_type": "markdown",
      "metadata": {
        "id": "_gEh9DHC5xbX"
      },
      "source": [
        "#PANDAS"
      ]
    },
    {
      "cell_type": "code",
      "source": [
        "import pandas as pd\n",
        "\n",
        "df = pd.DataFrame([[1, 2], [3, 4]], columns=['A', 'B'])\n",
        "display(df)\n",
        "\n",
        "\n",
        "df['C'] = df['A']/df['B']\n",
        "display(df)"
      ],
      "metadata": {
        "id": "81puaItbRtyY"
      },
      "execution_count": null,
      "outputs": []
    },
    {
      "cell_type": "code",
      "source": [
        "import pandas as pd\n",
        "\n",
        "df = pd.DataFrame([[86, 'Loja X'], [144, 'Loja Y']], columns=['ID', 'Nome'])\n",
        "\n",
        "#display(df[df['ID'] == 86])\n",
        "\n",
        "nome_loja = df.loc[1, 'Nome']\n",
        "\n",
        "print(nome_loja)\n",
        "\n",
        "df = pd.DataFrame([[1, 3, 'ab'], [2, 3, 'ab'], [4, 3, 'ac'], [0, 3, 'ad']], columns=['A', 'B', 'C'])\n",
        "display(df[df['A'].isin([3, 4])])"
      ],
      "metadata": {
        "id": "sWvQnuZgR081"
      },
      "execution_count": null,
      "outputs": []
    },
    {
      "cell_type": "code",
      "execution_count": null,
      "metadata": {
        "id": "U9oAaJFR5xbX"
      },
      "outputs": [],
      "source": [
        "#As vezes precisaremos mudar o encoding. Possiveis valores para testar:\n",
        "\n",
        "#encoding='latin1', encoding='ISO-8859-1', encoding='utf-8' ou então encoding='cp1252'\n",
        "\n",
        "import pandas as pd\n",
        "\n",
        "vendas_df = pd.read_csv(r'C:\\Flavio\\Curso Python\\ContosoVendas-2017.csv', sep=';')\n",
        "display(vendas_df['ID Cliente'][4])\n",
        "display(vendas_df[['Numero da Venda','Data da Venda','ID Cliente']])\n",
        "#display(vendas_df)"
      ]
    },
    {
      "cell_type": "code",
      "execution_count": null,
      "metadata": {
        "id": "HURi2raV5xbX"
      },
      "outputs": [],
      "source": [
        "vendas_df.info()"
      ]
    },
    {
      "cell_type": "code",
      "execution_count": null,
      "metadata": {
        "id": "wa3Wdgi85xbX"
      },
      "outputs": [],
      "source": [
        "lista_clientes = vendas_df['ID Cliente']\n",
        "lista_clientes"
      ]
    },
    {
      "cell_type": "code",
      "execution_count": null,
      "metadata": {
        "id": "he0NyVtf5xbX"
      },
      "outputs": [],
      "source": [
        "lista_colunas = ['ID Produto','Quantidade Vendida','Quantidade Devolvida']\n",
        "produtos_quantidade = vendas_df[lista_colunas]\n",
        "produtos_quantidade"
      ]
    },
    {
      "cell_type": "code",
      "execution_count": null,
      "metadata": {
        "id": "XIebyqAj5xbY"
      },
      "outputs": [],
      "source": [
        "import pandas as pd\n",
        "\n",
        "# df2 = pd.DataFrame([[3, 3], [4, 6],], columns=['C', 'D'])\n",
        "# display(df2)\n",
        "# df2 = df2[df2['C'] != df2['D']]\n",
        "# display(df2)\n",
        "\n",
        "###########\n",
        "# df = pd.DataFrame([[1, 'abc'], ['', 'def']], columns=['A', 'B'])\n",
        "# df1 = pd.DataFrame([[1, 'abc'], [2, 'def']], columns=['A', 'C'])\n",
        "# display(df)\n",
        "# display(df1)\n",
        "# df.merge(df1, on='A')\n",
        "\n",
        "import os\n",
        "cwd = os.getcwd()\n",
        "files = os.listdir(cwd)\n",
        "print('Diretorio atual: ', cwd)\n",
        "print('Arquivos: ', files)"
      ]
    },
    {
      "cell_type": "code",
      "execution_count": null,
      "metadata": {
        "id": "NbRmlVHK5xbY"
      },
      "outputs": [],
      "source": [
        "import pandas as pd\n",
        "\n",
        "#Abre os arquivos\n",
        "clientes_df = pd.read_csv(r'C:\\Flavio\\Curso Python\\Contoso - Clientes.csv', sep=';')\n",
        "lojas_df = pd.read_csv(r'C:\\Flavio\\Curso Python\\Contoso - Lojas.csv', sep=';')\n",
        "produtos_df = pd.read_csv(r'C:\\Flavio\\Curso Python\\Contoso - Cadastro Produtos.csv', sep=';')\n",
        "vendas_df = pd.read_csv(r'C:\\Flavio\\Curso Python\\Contoso - Vendas  - 2017.csv', sep=';')\n",
        "\n",
        "#excluindo colunas desnecessárias******\n",
        "# display(clientes_df)\n",
        "# clientes_df = clientes_df.drop(['Unnamed: 7','Unnamed: 8','Unnamed: 9','Unnamed: 10'], axis=1)\n",
        "# display(clientes_df)\n",
        "\n",
        "#recria datasframes com informações desejadas\n",
        "clientes_df = clientes_df[['ID Cliente','Primeiro Nome','E-mail']]\n",
        "#renomeando uma coluna\n",
        "clientes_df = clientes_df.rename(columns={'E-mail':'E-mail do Cliente'})\n",
        "lojas_df = lojas_df[['ID Loja','Nome da Loja']]\n",
        "produtos_df = produtos_df[['ID Produto','Nome do Produto','Preco Unitario']]\n",
        "\n",
        "#juntando as tabelas\n",
        "vendas_df = vendas_df.merge(clientes_df, on='ID Cliente')\n",
        "vendas_df = vendas_df.merge(lojas_df, on='ID Loja')\n",
        "vendas_df = vendas_df.merge(produtos_df, on='ID Produto')\n",
        "\n",
        "# display(clientes_df)\n",
        "# display(lojas_df)\n",
        "# display(produtos_df)\n",
        "#display(vendas_df)\n",
        "\n",
        "frequencia_cliente = vendas_df.value_counts(['E-mail do Cliente'])\n",
        "#frequencia_cliente = vendas_df['E-mail do Cliente'].value_counts()\n",
        "display(frequencia_cliente)\n",
        "frequencia_cliente[:5].plot(figsize=(15,5),yticks=range(60,80,5))"
      ]
    },
    {
      "cell_type": "code",
      "execution_count": null,
      "metadata": {
        "scrolled": false,
        "id": "6Ww8oc_15xbY"
      },
      "outputs": [],
      "source": [
        "vendas_lojas = vendas_df.groupby('Nome da Loja').sum()\n",
        "vendas_lojas = vendas_lojas[['Quantidade Vendida','Quantidade Devolvida']].sort_values('Quantidade Vendida', ascending=False)\n",
        "vendas_lojas['% Dev'] = (vendas_lojas['Quantidade Devolvida'] / vendas_lojas['Quantidade Vendida']).map('{:,.5%}'.format)\n",
        "vendas_lojas = vendas_lojas[:6]\n",
        "display(vendas_lojas)\n",
        "vendas_lojas['Quantidade Vendida'].plot(figsize=(8,5), kind='bar')"
      ]
    },
    {
      "cell_type": "code",
      "execution_count": null,
      "metadata": {
        "id": "tZwDD6Z25xbY"
      },
      "outputs": [],
      "source": [
        "print(vendas_lojas['Quantidade Vendida'].idxmax(),vendas_lojas['Quantidade Vendida'].max())\n",
        "print()\n",
        "print('-'*80)\n",
        "print(vendas_lojas[-1:])"
      ]
    },
    {
      "cell_type": "markdown",
      "metadata": {
        "id": "T0K1nlFl5xbZ"
      },
      "source": [
        "### Filtro DataFrame"
      ]
    },
    {
      "cell_type": "code",
      "execution_count": null,
      "metadata": {
        "id": "bO2v3DN85xbZ"
      },
      "outputs": [],
      "source": [
        "#lojas = vendas_df[vendas_df['ID Loja'] == 306].count()\n",
        "#print(lojas)\n",
        "vendas_df = vendas_df[['ID Loja','Quantidade Vendida','Quantidade Devolvida']]\n",
        "#loja306 = vendas_df[(vendas_df['ID Loja'] == 306) & (vendas_df['Quantidade Devolvida'] == 0)]\n",
        "loja306e308 = vendas_df[(vendas_df['ID Loja'].isin([306,308,86])) & (vendas_df['Quantidade Devolvida'] != 0)]\n",
        "                         \n",
        "display(loja306e308)"
      ]
    },
    {
      "cell_type": "code",
      "execution_count": null,
      "metadata": {
        "id": "S6JoD0JB5xbZ"
      },
      "outputs": [],
      "source": [
        "qtde_vendida = vendas_df['Quantidade Vendida'].sum()\n",
        "qtde_devolvida = vendas_df['Quantidade Devolvida'].sum()\n",
        "print(qtde_vendida)\n",
        "print(qtde_devolvida)"
      ]
    },
    {
      "cell_type": "markdown",
      "metadata": {
        "id": "gEdNSXCF5xbZ"
      },
      "source": [
        "### Modificando e adicionando colunas no DataFrame"
      ]
    },
    {
      "cell_type": "code",
      "execution_count": null,
      "metadata": {
        "id": "Cxd8xOtE5xbZ"
      },
      "outputs": [],
      "source": [
        "#display(vendas_df)\n",
        "vendas_df['Data da Venda'] = pd.to_datetime(vendas_df['Data da Venda'], format='%d/%m/%YYYY')\n",
        "# vendas_df['DVDia'] = vendas_df['Data da Venda'].dt.day\n",
        "# vendas_df['DVMes'] = vendas_df['Data da Venda'].dt.month\n",
        "# vendas_df['DVAno'] = vendas_df['Data da Venda'].dt.year\n",
        "vendas_df['DVDia'],vendas_df['DVMes'],vendas_df['DVAno'] = vendas_df['Data da Venda'].dt.day,vendas_df['Data da Venda'].dt.month,vendas_df['Data da Venda'].dt.year\n",
        "\n",
        "display(vendas_df.head())"
      ]
    },
    {
      "cell_type": "code",
      "execution_count": null,
      "metadata": {
        "id": "Y4Yv7od75xba"
      },
      "outputs": [],
      "source": [
        "#mudando o índice da tabela\n",
        "#produtos_df = produtos_df.set_index('Nome do Produto')\n",
        "\n",
        "#produtos_df.loc[4,'Preco Unitario'] = 23\n",
        "#produtos_df.loc['Contoso Wireless Laser Mouse E50 Grey','Preco Unitario'] = 45\n",
        "produtos_df.loc[produtos_df['ID Produto'] == 873,'Preco Unitario'] = 23\n",
        "#produtos_df.loc[[0,4],'Preco Unitario'] = 55\n",
        "display(produtos_df)"
      ]
    },
    {
      "cell_type": "markdown",
      "metadata": {
        "id": "qNbEJTSU5xba"
      },
      "source": [
        "### Exportar para arquivo csv"
      ]
    },
    {
      "cell_type": "code",
      "execution_count": null,
      "metadata": {
        "id": "x_Ok_JoH5xba"
      },
      "outputs": [],
      "source": [
        "vendas_produtos = {'iphone': [558147, 951642], 'galaxy': [712350, 244295], 'ipad': [573823, 26964], 'tv': [405252, 787604], 'máquina de café': [718654, 867660], 'kindle': [531580, 78830], 'geladeira': [973139, 710331], 'adega': [892292, 646016], 'notebook dell': [422760, 694913], 'notebook hp': [154753, 539704], 'notebook asus': [887061, 324831], 'microsoft surface': [438508, 667179], 'webcam': [237467, 295633], 'caixa de som': [489705, 725316], 'microfone': [328311, 644622], 'câmera canon': [591120, 994303]}\n",
        "\n",
        "vendas_produtos_df = pd.DataFrame.from_dict(vendas_produtos, orient=\"Index\", columns=['Vendas2019x','Vendas2020x'])\n",
        "#vendas_produtos_df.columns = ['Vendas2019','Vendas2020']\n",
        "#vendas_produtos_df = vendas_produtos_df.rename(columns={'Vendas2019x':'Vendas2019', 'Vendas2020x': 'Vendas2020'})\n",
        "#vendas_produtos_df = vendas_produtos_df.rename_axis('Produtos')\n",
        "vendas_produtos_df.index.name = 'Produtos'\n",
        "print(vendas_produtos_df)\n",
        "vendas_produtos_df.to_csv(r'C:\\Flavio\\Curso Python\\VendasProdutos.csv', sep=';', encoding='latin1')"
      ]
    },
    {
      "cell_type": "markdown",
      "metadata": {
        "id": "g7NNMGpp5xbb"
      },
      "source": [
        "### Lendo arquivo direto da internet"
      ]
    },
    {
      "cell_type": "code",
      "execution_count": null,
      "metadata": {
        "scrolled": false,
        "id": "oBDYq03t5xbb"
      },
      "outputs": [],
      "source": [
        "import pandas as pd\n",
        "import requests\n",
        "import io\n",
        "\n",
        "# Apenas para lembrar os tipos de encoding principais que vamos usar:\n",
        "# encoding='latin1'\n",
        "# encoding='ISO-8859-1'\n",
        "# encoding='utf-8'\n",
        "# encoding='cp1252'\n",
        "\n",
        "# url = r'https://drive.google.com/uc?authuser=0&id=1UzlPy6CZQeAzDXhfc_2sHEyK_Jb50vJs&export=download'\n",
        "# teste_df = pd.read_csv(url)\n",
        "# display(teste_df)\n",
        "\n",
        "url = r'http://portalweb.cooxupe.com.br:8080/portal/precohistoricocafe_2.jsp;jsessionid=A6F73DA6C811EA3B1335C443A6B75624?d-3496238-e=2&6578706f7274=1'\n",
        "teste2_url = requests.get(url).content\n",
        "teste2_arq = io.StringIO(teste2_url.decode('latin1'))\n",
        "teste2_df = pd.read_csv(teste2_arq, sep='\\t')\n",
        "display(teste2_df)"
      ]
    },
    {
      "cell_type": "code",
      "source": [
        "#Trabalhando com arquivo no Google Drive\n",
        "\n",
        "#!pip install -q tabula-py\n",
        "\n",
        "import pandas as pd\n",
        "import tabula.io\n",
        "#from pathlib import Path\n",
        "\n",
        "from google.colab import drive\n",
        "\n",
        "drive.mount('/content/drive')\n",
        "\n",
        "produtos_df = pd.read_excel(r'/content/drive/My Drive/Colab Notebooks/Produtos.xlsx')\n",
        "\n",
        "testepdf = tabula.read_pdf(r'/content/drive/My Drive/Colab Notebooks/Despesas de Viagem - Cleiton - Insurtech.pdf')\n",
        "display(testepdf)"
      ],
      "metadata": {
        "id": "4WVbjVX6QrFj"
      },
      "execution_count": null,
      "outputs": []
    },
    {
      "cell_type": "code",
      "source": [
        "import pandas as pd\n",
        "\n",
        "from google.colab import drive\n",
        "\n",
        "drive.mount('/content/drive')\n",
        "\n",
        "produtos_df = pd.read_excel(r'/content/drive/My Drive/Colab Notebooks/Produtos.xlsx')\n",
        "produtos_df.loc[produtos_df['Tipo'] == 'Serviço', 'Multiplicador Imposto'] = 1.5\n",
        "produtos_df['Preço Base Reais'] = produtos_df['Preço Base Original'] * produtos_df['Multiplicador Imposto']\n",
        "display(produtos_df)\n",
        "produtos_df.to_excel(r'/content/drive/My Drive/Colab Notebooks/ProdutosNovoPandas.xlsx')\n",
        "\n",
        "from openpyxl import Workbook, load_workbook\n",
        "\n",
        "planilha = load_workbook(r'/content/drive/My Drive/Colab Notebooks/Produtos.xlsx')\n",
        "\n",
        "aba_ativa = planilha.active\n",
        "\n",
        "for aba in aba_ativa['C']:\n",
        "    if aba.value == 'Serviço':\n",
        "        linha = aba.row\n",
        "        aba_ativa[f'D{linha}'] = 1.5\n",
        "    \n",
        "#planilha.save(R'/content/drive/My Drive/Colab Notebooks/ProdutosOPENPY.xlsx')\n"
      ],
      "metadata": {
        "id": "bHnkIgB2RSpi"
      },
      "execution_count": null,
      "outputs": []
    },
    {
      "cell_type": "markdown",
      "metadata": {
        "id": "4-p41VpA5xbb"
      },
      "source": [
        "### Barra de progresso"
      ]
    },
    {
      "cell_type": "code",
      "execution_count": null,
      "metadata": {
        "id": "4GxYLU6S5xbb"
      },
      "outputs": [],
      "source": [
        "from tqdm import tqdm\n",
        "\n",
        "# pbar = tqdm(total=1000000, position=0, leave=True)\n",
        "# for i in range(1000000):\n",
        "#     pbar.update()\n",
        "#     teste = i+1\n",
        "\n",
        "# print('\\nteste',teste)\n",
        "\n",
        "pbar = tqdm(total=len(vendas_df['ID Loja']), position=0, leave=True)\n",
        "\n",
        "for i, idloja in enumerate(vendas_df['ID Loja']):\n",
        "    pbar.update()\n",
        "    if idloja == 256:\n",
        "        vendas_df.loc[i, 'Quantidade Devolvida'] = 5\n",
        "        \n",
        "display(vendas_df)"
      ]
    },
    {
      "cell_type": "markdown",
      "metadata": {
        "id": "RGg1T-HQ5xbb"
      },
      "source": [
        "### Analise de dados PANDAS"
      ]
    },
    {
      "cell_type": "code",
      "execution_count": null,
      "metadata": {
        "id": "NNlRS4lx5xbc"
      },
      "outputs": [],
      "source": [
        "import pandas as pd\n",
        "\n",
        "funcionarios_df = pd.read_csv('CadastroFuncionarios.csv', sep=';', decimal=',')\n",
        "clientes_df = pd.read_csv('CadastroClientes.csv', sep=';', decimal=',')\n",
        "servicos_df = pd.read_excel('BaseServiçosPrestados.xlsx')\n",
        "#listafunc = len(servicos_df['ID Funcionário'].unique())\n",
        "display(funcionarios_df)\n",
        "display(clientes_df)\n",
        "display(servicos_df)\n",
        "#print(listafunc)\n",
        "\n",
        "print('-'*100)\n",
        "#folha salarial\n",
        "funcionarios_df['Salario Total'] = funcionarios_df['Salario Base'] + funcionarios_df['Impostos'] + funcionarios_df['Beneficios'] + funcionarios_df['VT'] + funcionarios_df['VR']\n",
        "print('A soma total da folha salarial é R$ {:,}'.format(funcionarios_df['Salario Total'].sum()))\n",
        "\n",
        "print('-'*100)\n",
        "#faturamento da empresa\n",
        "faturamento_empresa = servicos_df[['ID Cliente','Tempo Total de Contrato (Meses)']].merge(clientes_df[['ID Cliente','Valor Contrato Mensal']], on='ID Cliente')\n",
        "faturamento_empresa['Faturamento Total'] = faturamento_empresa['Valor Contrato Mensal'] * faturamento_empresa['Tempo Total de Contrato (Meses)']\n",
        "print('A soma do faturamento da empresa é R$ {:,.2f}'.format(faturamento_empresa['Faturamento Total'].sum()))\n",
        "\n",
        "print('-'*100)\n",
        "#percentual de funcionários que fecharam contrato\n",
        "func_fecharam_contrato = len(servicos_df['ID Funcionário'].unique())\n",
        "total_funcionarios = len(funcionarios_df['ID Funcionário'])\n",
        "print('A percentual de funcionários que fecharam contratos foi: {:.2%}'.format(func_fecharam_contrato / total_funcionarios))\n",
        "\n",
        "print('-'*100)\n",
        "# #quantidade de contrato por área\n",
        "contratos_area_df = servicos_df[['ID Funcionário']].merge(funcionarios_df[['ID Funcionário','Area']], on='ID Funcionário')\n",
        "contratos_area_qtde = contratos_area_df['Area'].value_counts()\n",
        "print('Quantidade de contratos por área\\n',contratos_area_qtde)\n",
        "\n",
        " print('-'*100)\n",
        "# #quantidade de funcionários por área\n",
        " display('Quantidade de funcionários por área:',funcionarios_df['Area'].value_counts())\n",
        "\n",
        "print('-'*100)\n",
        "#valor ticket médio mensal\n",
        "# ticket_medio_mensal = clientes_df['Valor Contrato Mensal'].sum() / len(clientes_df['ID Cliente'])\n",
        "ticket_medio_mensal = clientes_df['Valor Contrato Mensal'].mean()\n",
        "print('O ticket médio mensal é: R$ {:,.2f}'.format(ticket_medio_mensal))"
      ]
    },
    {
      "cell_type": "markdown",
      "metadata": {
        "id": "OVOprQV-5xbc"
      },
      "source": [
        "#ARQUIVOS TXT"
      ]
    },
    {
      "cell_type": "code",
      "source": [
        "#Sem with\n",
        "arquivo = open('meu_arquivo.txt','w')\n",
        "arquivo.write('Boa tarde! Segue anexo.')\n",
        "arquivo.close()\n",
        "\n",
        "#Com with\n",
        "with open('meu_arquivo.txt','w') as arquivo:\n",
        "\tarquivo.write('Boa tarde! Segue anexo.')"
      ],
      "metadata": {
        "id": "cZW6AwiqjVie"
      },
      "execution_count": null,
      "outputs": []
    },
    {
      "cell_type": "code",
      "execution_count": null,
      "metadata": {
        "id": "CcNCli7u5xbc"
      },
      "outputs": [],
      "source": [
        "arquivo = open('Alunos.txt', 'r')\n",
        "\n",
        "lista_alunos = arquivo.readlines()\n",
        "del lista_alunos[:4]\n",
        "\n",
        "qtde_anuncios = 0\n",
        "qtde_org = 0\n",
        "qtde_yt = 0\n",
        "qtde_site = 0\n",
        "qtde_igfb = 0\n",
        "\n",
        "for item in lista_alunos:\n",
        "    email, origem = item.split(',')\n",
        "    if '_org' in origem:\n",
        "        qtde_org += 1\n",
        "        if '_yt_org' in origem:\n",
        "            qtde_yt += 1\n",
        "        if '_site_org' in origem:\n",
        "            qtde_site += 1\n",
        "        if '_ig_org' in origem or 'igfb_org' in origem:\n",
        "            qtde_igfb +=1\n",
        "    else:\n",
        "        qtde_anuncios += 1\n",
        "        \n",
        "arquivo.close()\n",
        "\n",
        "print('Quantidade de alunos captados de forma orgânica {}'.format(qtde_org))\n",
        "print('Quantidade de alunos captados por anuncios {}'.format(qtde_anuncios))\n",
        "print('Quantidade de alunos captados pelo YouTube {}'.format(qtde_yt))\n",
        "print('Quantidade de alunos captados pelo Site {}'.format(qtde_site))\n",
        "print('Quantidadede alunos captados pelos Instagra e Facebook {}'.format(qtde_igfb))\n",
        "\n",
        "with open('Indicadores.txt', 'w') as arquivo_indicadores:\n",
        "    arquivo_indicadores.write('Quantidade de alunos captados de forma orgânica {}\\n'.format(qtde_org)+'Quantidade de alunos captados por anuncios {}\\n\\n'.format(qtde_anuncios))\n",
        "    arquivo_indicadores.write('Quantidade de alunos captados pelo YouTube {}\\n'.format(qtde_yt))\n",
        "    arquivo_indicadores.write('Quantidade de alunos captados pelo Site {}\\n'.format(qtde_site))\n",
        "    arquivo_indicadores.write('Quantidadede alunos captados pelos Instagra e Facebook {}\\n'.format(qtde_igfb))\n"
      ]
    },
    {
      "cell_type": "code",
      "execution_count": null,
      "metadata": {
        "id": "iviDNmaG5xbc"
      },
      "outputs": [],
      "source": [
        "with open('Indicadores.txt','a') as arquivo_indicadores:\n",
        "    arquivo_indicadores.write('\\nTeste de inclusão de nova linha -4')"
      ]
    },
    {
      "cell_type": "markdown",
      "metadata": {
        "id": "_YOaie3e5xbd"
      },
      "source": [
        "#ARQUIVOS PDF"
      ]
    },
    {
      "cell_type": "code",
      "execution_count": null,
      "metadata": {
        "id": "uoFS7fZX5xbd"
      },
      "outputs": [],
      "source": [
        "!pip install pathlib"
      ]
    },
    {
      "cell_type": "code",
      "execution_count": null,
      "metadata": {
        "id": "9Jr5Duti5xbd"
      },
      "outputs": [],
      "source": [
        "import PyPDF2 as pyf\n",
        "import os\n",
        "from pathlib import Path\n",
        "\n",
        "print('0',Path.cwd())\n",
        "\n",
        "#lista todos os arquivos do diretório\n",
        "listaarq = os.listdir(Path('PDF'))\n",
        "\n",
        "dir_path = os.path.dirname(os.path.realpath(listaarq[0]))\n",
        "print('1',dir_path)\n",
        "\n",
        "for item in listaarq:\n",
        "    print('2',os.path.dirname(item))\n",
        "    print('3',os.path.dirname(os.path.realpath(item)))\n",
        "#     print('----')\n",
        "    print('4',os.path.realpath(item))\n",
        "    \n",
        "arquivo_pdf = pyf.PdfFileMerger()\n",
        "\n",
        "####\n",
        "#arquivo1 = 'C:\\Flavio\\Curso Python\\PDF\\MGLU_ER_3T20_POR.pdf'\n",
        "#arquivo2 = 'C:\\Flavio\\Curso Python\\PDF\\MGLU_ER_4T20_POR.pdf'\n",
        "#arquivo_pdf.append(arquivo1, import_bookmarks=False)\n",
        "#arquivo_pdf.append(arquivo2, import_bookmarks=False)\n",
        "####\n",
        "\n",
        "for item in listaarq:\n",
        "    #print(item)\n",
        "    arquivo_pdf.append(r'C:/Flavio/Curso Python/PDF/'+item, import_bookmarks=False)\n",
        "    #arquivo_pdf.append(os.path.dirname(os.path.realpath(item))+'/'+item, import_bookmarks=False)\n",
        "\n",
        "with Path('C:/Flavio/Curso Python/PDF/novo.pdf').open(mode='wb') as arqfinal:\n",
        "    arquivo_pdf.write(arqfinal)\n",
        "    arqfinal.close()"
      ]
    },
    {
      "cell_type": "code",
      "execution_count": null,
      "metadata": {
        "scrolled": false,
        "id": "4JzfHPce5xbe"
      },
      "outputs": [],
      "source": [
        "import tabula\n",
        "#lê pdf - 1 página\n",
        "df = tabula.read_pdf('MGLU_ER_3T20_POR.pdf', pages=5)\n",
        "#seleciona somente 1 tabela da página\n",
        "arquivo_pdf = df[0]\n",
        "#excluí todas as linha nulas\n",
        "arquivo_pdf = arquivo_pdf.dropna(how='all')\n",
        "#excluí todas as colunas nulas\n",
        "arquivo_pdf = arquivo_pdf.dropna(how='all', axis=1)\n",
        "#renomeia título das colunas com informações da linha 1\n",
        "arquivo_pdf.columns = arquivo_pdf.iloc[0]\n",
        "#excluí primeira linha onde havia os títulos\n",
        "arquivo_pdf = arquivo_pdf.drop(arquivo_pdf.index[0])\n",
        "#reoganiza os índices sequencialmente - havia linhas excluídas\n",
        "arquivo_pdf = arquivo_pdf.reset_index(drop=True)\n",
        "display(arquivo_pdf)"
      ]
    },
    {
      "cell_type": "code",
      "source": [
        "#Trabalhando com arquivos no Google Drive\n",
        "\n",
        "#!pip install -q pyPDF2\n",
        "\n",
        "import PyPDF2 as pyf\n",
        "\n",
        "from google.colab import drive\n",
        "\n",
        "drive.mount('/content/drive')\n",
        "\n",
        "pdf_mesclado = pyf.PdfFileMerger()\n",
        "\n",
        "arquivo1 = r'/content/drive/My Drive/Colab Notebooks/PDF/Gmail - Gastos Cartão de Crédito 09_21.pdf'\n",
        "arquivo2 = r'/content/drive/My Drive/Colab Notebooks/PDF/Anticaptcha.pdf'\n",
        "arquivo3 = r'/content/drive/My Drive/Colab Notebooks/PDF/AWS-DevInvoice_837857849.pdf'\n",
        "arquivo4 = r'/content/drive/My Drive/Colab Notebooks/PDF/AzCaptcha.pdf'\n",
        "arquivo5 = r'/content/drive/My Drive/Colab Notebooks/PDF/github-InfocapTI-receipt-2021-09-15.pdf'\n",
        "# arquivo6 = \n",
        "\n",
        "pdf_mesclado.append(arquivo1, import_bookmarks=False)\n",
        "pdf_mesclado.append(arquivo2, import_bookmarks=False)\n",
        "pdf_mesclado.append(arquivo3, import_bookmarks=False)\n",
        "pdf_mesclado.append(arquivo4, import_bookmarks=False)\n",
        "pdf_mesclado.append(arquivo5, import_bookmarks=False)\n",
        "# pdf_mesclado.append(arquivo6 import_bookmarks=False)\n",
        "\n",
        "\n",
        "with Path(r'/content/drive/My Drive/Colab Notebooks/PDF/NOVO.pdf').open(mode='wb') as arquivo_final:\n",
        "    pdf_mesclado.write(arquivo_final)"
      ],
      "metadata": {
        "id": "4ej5ClfJM-_J"
      },
      "execution_count": null,
      "outputs": []
    },
    {
      "cell_type": "markdown",
      "metadata": {
        "id": "BQM5mssY5xbe"
      },
      "source": [
        "#PATHLIB - MANIPULAÇÃO PASTAS E ARQUIVOS"
      ]
    },
    {
      "cell_type": "code",
      "execution_count": null,
      "metadata": {
        "id": "eWBMSUQ-5xbf"
      },
      "outputs": [],
      "source": [
        "'''\n",
        "Criar pasta com cada estado dentro do diretório definido, move arquivos de cada estado para dentro da pasta específica\n",
        "'''\n",
        "\n",
        "import shutil\n",
        "from pathlib import Path\n",
        "\n",
        "#mostra pasta raiz\n",
        "print(Path.cwd())\n",
        "\n",
        "#cria variável com caminho dos arquivos\n",
        "#caminho = Path('C:\\Flavio\\Curso Python\\Arquivos_Lojas')\n",
        "caminho = Path('Arquivos_lojas')\n",
        "\n",
        "#cria uma lista com as variáreis\n",
        "estados = ['GO','RJ','MG','SP','AM']\n",
        "#cria as pastas  com cada item da lista dentro da pasta da variável caminho\n",
        "for estado in estados:\n",
        "    Path(caminho / estado).mkdir()"
      ]
    },
    {
      "cell_type": "code",
      "execution_count": null,
      "metadata": {
        "id": "2o8U1jD85xbf"
      },
      "outputs": [],
      "source": [
        "arquivos = caminho.iterdir()\n",
        "\n",
        "for arquivo in arquivos:\n",
        "    #pega nome e extensão do arquivo\n",
        "    nome_arquivo = arquivo.name\n",
        "    #identifica se é um arquivo (não pasta) quando tem no final csv\n",
        "    if nome_arquivo[-3:] == 'csv':\n",
        "    #move o arquivo da pasta origem para a pasta destino\n",
        "        shutil.move(Path(caminho/nome_arquivo), Path(caminho/Path(nome_arquivo[-6:-4])/nome_arquivo))"
      ]
    },
    {
      "cell_type": "markdown",
      "metadata": {
        "id": "-nfzEENE5xbg"
      },
      "source": [
        "#RPA - PYAUTOGUI"
      ]
    },
    {
      "cell_type": "code",
      "execution_count": null,
      "metadata": {
        "scrolled": true,
        "id": "iNzcEjb75xbg"
      },
      "outputs": [],
      "source": [
        "!pip install pyautogui"
      ]
    },
    {
      "cell_type": "code",
      "execution_count": null,
      "metadata": {
        "id": "igxYO2FH5xbg"
      },
      "outputs": [],
      "source": [
        "import pyautogui as pyg\n",
        "import time\n",
        "import pyperclip as ppc\n",
        "\n",
        "# write() - escreve\n",
        "# click - clica\n",
        "# LocateOnScreen - identifica uma imagem na tela\n",
        "# hotkey - usa atalho do teclado\n",
        "# press - aperta um botão do teclado\n",
        "# print(pyg.KEYBOARD_KEYS)\n",
        "\n",
        "pyg.alert('Iniciará a execução do robô, não mexa até ser sinalizado a finalização')\n",
        "\n",
        "texto = pyg.prompt('Digite a senha')\n",
        "if not texto == '123':\n",
        "    exit();\n",
        "\n",
        "pyg.PAUSE = 0.5\n",
        "pyg.press('win')\n",
        "pyg.write('chrome')\n",
        "pyg.press('enter')\n",
        "pyg.hotkey('ctrl','t')\n",
        "pyg.write('gmail login')\n",
        "pyg.press('enter')\n",
        "\n",
        "#time.sleep(0.3)\n",
        "tupla = pyg.locateOnScreen('gmail.PNG')\n",
        "while not tupla:\n",
        "    tupla = pyg.locateOnScreen('gmail.PNG')\n",
        "    #print(tupla)\n",
        "    time.sleep(0.2)\n",
        "\n",
        "x, y, largura, altura = tupla\n",
        "pyg.click(x + largura/2, y + altura/2)\n",
        "\n",
        "while not pyg.locateOnScreen('carregou.PNG'):\n",
        "    time.sleep(0.5)\n",
        "    \n",
        "tupla = pyg.locateOnScreen('novomail.PNG')\n",
        "while not tupla:\n",
        "    tupla = pyg.locateOnScreen('novomail.PNG')\n",
        "    time.sleep(0.3)\n",
        "\n",
        "x, y, largura, altura = tupla\n",
        "pyg.click(x + largura/2, y + altura/2)\n",
        "\n",
        "while not pyg.locateOnScreen('abriunovamsg.PNG'):\n",
        "    time.sleep(0.5)\n",
        "\n",
        "pyg.write('danielli@gmail.com')\n",
        "pyg.press('enter')\n",
        "pyg.press('tab')\n",
        "pyg.write('Testando')\n",
        "#pyg.press('enter')\n",
        "pyg.press('tab')\n",
        "texto = '''\n",
        " Aí Jow!!!\n",
        " \n",
        " Só fuçando no aifone novo né???!!! \n",
        " \n",
        " Trabalhaí pra ganhar dinheiro ... \n",
        " \n",
        " Bamo!\n",
        " \n",
        " FZ\n",
        "\n",
        "'''\n",
        "ppc.copy(texto)\n",
        "pyg.hotkey('ctrl','v')\n",
        "pyg.hotkey('ctrl','enter')\n",
        "\n",
        "#aguardar\n",
        "#while not pyg.locateOnScreen(''):\n",
        "#    time.sleep(1)\n",
        "\n",
        "pyg.alert('Execução finalizada!')"
      ]
    },
    {
      "cell_type": "code",
      "execution_count": null,
      "metadata": {
        "id": "spikSkW25xbh"
      },
      "outputs": [],
      "source": [
        "#para achar a posição do mouse na tela\n",
        "# time.sleep(5)\n",
        "# print(pyg.position())\n",
        "\n",
        "#para mudar de tela com alt+tab\n",
        "while not pyg.locateOnScreen('abreoutratela.PNG'):\n",
        "    pyg.hotkey('alt','shift','tab')"
      ]
    },
    {
      "cell_type": "code",
      "source": [
        "import pyautogui as pyg\n",
        "import time\n",
        "\n",
        "# write() - escreve\n",
        "# click - clica\n",
        "# LocateOnScreen - identifica uma imagem na tela\n",
        "# hotkey - usa atalho do teclado\n",
        "# press - aperta um botão do teclado\n",
        "# print(pyg.KEYBOARD_KEYS)\n",
        "\n",
        "pyg.alert('Iniciará a execução do robô, não mexa até ser sinalizado a finalização')\n",
        "\n",
        "texto = pyg.prompt('Digite a senha')\n",
        "if not texto == '123':\n",
        "    exit();\n",
        "\n",
        "pyg.PAUSE = 1\n",
        "pyg.press('win')\n",
        "pyg.write('chrome')\n",
        "pyg.press('enter')\n",
        "time.sleep(0.3)\n",
        "\n",
        "tupla = pyg.locateOnScreen('santander.PNG')\n",
        "while not tupla:\n",
        "    tupla = pyg.locateOnScreen('santander.PNG')\n",
        "    time.sleep(0.3)\n",
        "\n",
        "x, y, largura, altura = tupla\n",
        "#print(x)\n",
        "pyg.click(x + largura/2, y + altura/2)\n",
        "\n",
        "time.sleep(0.2)\n",
        "tupla = pyg.locateOnScreen('agencia.PNG')\n",
        "while not tupla:\n",
        "    tupla = pyg.locateOnScreen('agencia.PNG')\n",
        "    time.sleep(0.3)\n",
        "\n",
        "x, y, largura, altura = tupla\n",
        "#print(x)\n",
        "pyg.click(x + largura/2, y + altura/2)\n",
        "pyg.write('1100')\n",
        "pyg.press('tab')\n",
        "pyg.write('150009999')\n",
        "pyg.press('enter')\n",
        "\n",
        "#aguardar\n",
        "while not pyg.locateOnScreen(''):\n",
        "    time.sleep(1)\n",
        "\n",
        "pyg.alert('Execução finalizada!')"
      ],
      "metadata": {
        "id": "DBwcWFgwGgzy"
      },
      "execution_count": null,
      "outputs": []
    },
    {
      "cell_type": "markdown",
      "metadata": {
        "id": "Q-UfC8gU5xbi"
      },
      "source": [
        "#INTEGRAÇÃO COM EMAIL"
      ]
    },
    {
      "cell_type": "code",
      "execution_count": null,
      "metadata": {
        "id": "aQFz5JV45xbl"
      },
      "outputs": [],
      "source": [
        "## GMAIL\n",
        "import yagmail\n",
        "\n",
        "usuario = yagmail.SMTP(user='flavio@gmail.com',password='SENHA')\n",
        "\n",
        "usuario.send(to='flavio@gmail.com', subject='teste de email', contents='''\n",
        " Olá!\n",
        " \n",
        " Testanto o envio de email pelo PYTHON!\n",
        " \n",
        " FZ\n",
        "''', attachments='Alunos.txt')"
      ]
    },
    {
      "cell_type": "code",
      "execution_count": null,
      "metadata": {
        "id": "ZXeWEpcw5xbl"
      },
      "outputs": [],
      "source": [
        "usuario.send(to=['flavio@gmail.com','flavio@msn.com'], cc='danielli@gmail.com', bcc='fsouza@gmail.com', subject='teste de email', contents='''\n",
        " Olá!\n",
        " \n",
        " Testanto o envio de email com anexo pelo PYTHON!\n",
        " \n",
        " FZ\n",
        "''', attachments=['Alunos.txt','Indicadores.txt'])"
      ]
    },
    {
      "cell_type": "code",
      "execution_count": null,
      "metadata": {
        "id": "e7vSTmV-5xbl"
      },
      "outputs": [],
      "source": [
        "texto = ['Boa noite!', 'Testando uma outra forma de formatar o texto do corpo do email','Agradeço','Att. FZ']\n",
        "texto = '\\n'.join(texto)\n",
        "#ou\n",
        "nome = 'Senhores'\n",
        "texto = '''\n",
        "Boa noite {}!!!\n",
        "\n",
        "Testando mais uma outra forma de formatar o texto do corpo do email.\n",
        "\n",
        "Agradeço\n",
        "\n",
        "Att. FZ'''.format(nome)\n",
        "#ou HTML\n",
        "nome = 'Senhores!!'\n",
        "texto = '''\n",
        "<p>Boa noite {}!!!</p>\n",
        "<p>Testando mais uma outra forma de formatar o texto do corpo do email.</p>\n",
        "<p>Agradeço</p><p>Att. FZ</p>'''.format(nome)\n",
        "\n",
        "usuario.send(to=['flavio@gmail.com','flavio@teste.com.br'], bcc='fsouza@gmail.com', \\\n",
        "             subject='teste de email', contents=texto, attachments=['Alunos.txt','Indicadores.txt'])"
      ]
    },
    {
      "cell_type": "code",
      "execution_count": null,
      "metadata": {
        "id": "-RK-56c_5xbm"
      },
      "outputs": [],
      "source": [
        "## OUTLOOK\n",
        "import win32com.client as win32\n",
        "\n",
        "#win32.Dispatch(\"Excel.Application\")\n",
        "#win32.Dispatch(\"Outlook.Application\").GetNamespace('MAPI')\n",
        "outlook = win32.Dispatch('Outlook.Application')\n",
        "\n",
        "mail = outlook.CreateItem(0)\n",
        "mail.To = 'flavio@teste.com.br'\n",
        "# mail.CC = ''\n",
        "# mail.BCC = ''\n",
        "mail.Subject = 'teste'\n",
        "mail.Body = 'teste'\n",
        "# mail.HTMLBody = ''\n",
        "\n",
        "# attachments = r'C:\\...'\n",
        "# mail.Attachments.add(attachments)\n",
        "\n",
        "mail.Send()"
      ]
    },
    {
      "cell_type": "code",
      "source": [
        "# PESQUISA - FILTRO\n",
        "\n",
        "from imap_tools import MailBox, AND\n",
        "\n",
        "#fazer login\n",
        "usuario = 'flavio@gmail.com'\n",
        "senha = 'SENHA'\n",
        "\n",
        "meu_email = MailBox('imap.gmail.com').login(usuario, SENHA)\n",
        "\n",
        "#pesquisar emails filtrando\n",
        "lista_emails = meu_email.fetch(AND(from_='flavio@gmail.com', date_gte=datetime.date(2021, 8, 1)))\n",
        "\n",
        "for email in lista_emails:\n",
        "    print(email.date, email.subject)"
      ],
      "metadata": {
        "id": "t1M3-RgHG6xf"
      },
      "execution_count": null,
      "outputs": []
    },
    {
      "cell_type": "markdown",
      "metadata": {
        "id": "5eZLTwIu5xbm"
      },
      "source": [
        "#BANCO DE DADOS - INTEGRAÇÃO SQL - PYODBC"
      ]
    },
    {
      "cell_type": "code",
      "execution_count": null,
      "metadata": {
        "id": "9lGBKUX35xbm"
      },
      "outputs": [],
      "source": [
        "!pip install pyodbc"
      ]
    },
    {
      "cell_type": "code",
      "source": [
        "# SQL SERVER\n",
        "import pyodbc\n",
        "import pandas as pd\n",
        "\n",
        "dados_conexao = (\"Driver={SQL Server};\"\n",
        "                 \"Server=NOTE-FLAVIO\\MSSQLSERVER2;\"\n",
        "                 \"Database=Nevada;\")\n",
        "#caso precisasse de login e senha:\n",
        "#dados_conexao = (\"Driver={SQL Server Native Client 11.0};\"\n",
        "#                  \"Server=UKXXX00123,45600;\"\n",
        "#                  \"Database=DB01;\"\n",
        "#                  \"UID=Login;\"\n",
        "#                  \"PWD=SENHA;\")\n",
        "\n",
        "\n",
        "conexao = pyodbc.connect(dados_conexao)\n",
        "print('Conexão Bem sucedida')\n",
        "\n",
        "df_segflex = pd.read_sql('SELECT * FROM dbo.clientes', conexao)\n",
        "display(df_segflex)"
      ],
      "metadata": {
        "id": "4Ei2mQKXM4GB"
      },
      "execution_count": null,
      "outputs": []
    },
    {
      "cell_type": "code",
      "execution_count": null,
      "metadata": {
        "id": "TaZwm8Z75xbn"
      },
      "outputs": [],
      "source": [
        "# MYSQL\n",
        "\n",
        "import pyodbc\n",
        "import pandas as pd\n",
        "\n",
        "#print(pyodbc.drivers())\n",
        "conexao = pyodbc.connect(\n",
        "            \"Driver={MySQL ODBC 8.0 ANSI Driver};\"\n",
        "            \"Server=localhost;\"\n",
        "            \"Database=connect;\"\n",
        "            \"UID=root;\"\n",
        "            \"PWD=SENHA;\")\n",
        "\n",
        "#print('Conexão Bem sucedida')\n",
        "\n",
        "cursor = conexao.cursor()\n",
        "\n",
        "cursor.execute(\"SELECT * FROM segurados WHERE seguradoid < 51;\")\n",
        "linha = cursor.fetchall()\n",
        "#print(linha)\n",
        "\n",
        "df_tabela = pd.DataFrame(list(linha))\n",
        "print(df_tabela)"
      ]
    },
    {
      "cell_type": "code",
      "execution_count": null,
      "metadata": {
        "id": "vmy8ClUp5xbn",
        "outputId": "1a826803-e794-46b4-a60c-c891cddf5330"
      },
      "outputs": [
        {
          "name": "stdout",
          "output_type": "stream",
          "text": [
            "['SQL Server', 'SQL Server Native Client 11.0', 'ODBC Driver 17 for SQL Server']\n"
          ]
        }
      ],
      "source": [
        "import pyodbc\n",
        "print(pyodbc.drivers())"
      ]
    },
    {
      "cell_type": "code",
      "execution_count": null,
      "metadata": {
        "id": "MEeKfFgf5xbo"
      },
      "outputs": [],
      "source": [
        "myConnection = MySQLdb.connect(host=hostname, user=username, passwd=password, db=database)\n",
        "doQuery( myConnection )\n",
        "myConnection.close()"
      ]
    },
    {
      "cell_type": "code",
      "execution_count": null,
      "metadata": {
        "id": "oU674TlW5xbo"
      },
      "outputs": [],
      "source": [
        "### exercício acessar bd ... migração entre bancos ... "
      ]
    },
    {
      "cell_type": "markdown",
      "metadata": {
        "id": "H8XyObvq5xbo"
      },
      "source": [
        "#INTEGRAÇÃO COM WEB - SELENIUM"
      ]
    },
    {
      "cell_type": "code",
      "execution_count": null,
      "metadata": {
        "id": "KaEw15s_5xbp"
      },
      "outputs": [],
      "source": [
        "from selenium import webdriver\n",
        "\n",
        "driver = webdriver.Chrome()\n",
        "driver.get('http://www.hashtagtreinamentos.com')\n",
        "print(driver.title)"
      ]
    },
    {
      "cell_type": "markdown",
      "metadata": {
        "id": "Tw7gCxAc5xbp"
      },
      "source": [
        "### Exercícios com acessos a iframes"
      ]
    },
    {
      "cell_type": "code",
      "execution_count": null,
      "metadata": {
        "id": "ZX54ha9V5xbp"
      },
      "outputs": [],
      "source": [
        "from selenium import webdriver\n",
        "import time\n",
        "\n",
        "link = 'https://pbdatatrader.com.br/jogosdodia'\n",
        "\n",
        "driver = webdriver.Chrome()\n",
        "driver.get(link)"
      ]
    },
    {
      "cell_type": "code",
      "execution_count": null,
      "metadata": {
        "id": "XJiWqBNU5xbp",
        "outputId": "0b5c6c32-fbd5-463d-b111-7de5e0d7fb85"
      },
      "outputs": [
        {
          "name": "stderr",
          "output_type": "stream",
          "text": [
            "<ipython-input-28-2236938879d1>:1: DeprecationWarning: find_elements_by_* commands are deprecated. Please use find_elements() instead\n",
            "  while len(driver.find_elements_by_tag_name('iframe')) == 0:\n",
            "<ipython-input-28-2236938879d1>:6: DeprecationWarning: find_element_by_* commands are deprecated. Please use find_element() instead\n",
            "  meu_iframe = driver.find_element_by_tag_name('iframe')\n"
          ]
        },
        {
          "name": "stdout",
          "output_type": "stream",
          "text": [
            "0\n",
            "1\n"
          ]
        },
        {
          "name": "stderr",
          "output_type": "stream",
          "text": [
            "<ipython-input-28-2236938879d1>:13: DeprecationWarning: find_element_by_* commands are deprecated. Please use find_element() instead\n",
            "  meu_iframe = driver.find_element_by_tag_name('iframe')\n"
          ]
        },
        {
          "name": "stdout",
          "output_type": "stream",
          "text": [
            "2\n"
          ]
        },
        {
          "name": "stderr",
          "output_type": "stream",
          "text": [
            "<ipython-input-28-2236938879d1>:23: DeprecationWarning: find_element_by_* commands are deprecated. Please use find_element() instead\n",
            "  tabela = driver.find_element_by_class_name('innerContainer').text\n"
          ]
        }
      ],
      "source": [
        "while len(driver.find_elements_by_tag_name('iframe')) == 0:\n",
        "    time.sleep(1)\n",
        "print('0')          \n",
        "\n",
        "#identifica e entra no primeiro iframe\n",
        "meu_iframe = driver.find_element_by_tag_name('iframe')\n",
        "driver.switch_to.frame(meu_iframe)\n",
        "\n",
        "time.sleep(2)\n",
        "print('1')\n",
        "\n",
        "#identifica e entra no segundo iframe\n",
        "meu_iframe = driver.find_element_by_tag_name('iframe')\n",
        "driver.switch_to.frame(meu_iframe)\n",
        "\n",
        "time.sleep(3)\n",
        "print('2')\n",
        "\n",
        "#testando se acessou o iframe correto\n",
        "# texto = driver.find_element_by_xpath('//*[@id=\"pvExplorationHost\"]/div/div/exploration/div/explore-canvas/div/div[2]/div/div[2]/div[2]/visual-container-repeat/visual-container[19]/transform/div/div[3]/div/visual-modern/div/div/div[2]/div[1]/div[2]/div/div[1]/div').text\n",
        "# print(texto)\n",
        "\n",
        "tabela = driver.find_element_by_class_name('innerContainer').text\n",
        "#print(tabela)\n",
        "\n",
        "lista = tabela.split('\\n')\n",
        "colunas = lista[:11]\n",
        "valores = lista[11:]\n",
        "# print(colunas)\n",
        "# print(valores)"
      ]
    },
    {
      "cell_type": "code",
      "execution_count": null,
      "metadata": {
        "id": "MaCcXlb75xbq",
        "outputId": "31e3b182-5235-4595-a3b6-288748684cce"
      },
      "outputs": [
        {
          "name": "stdout",
          "output_type": "stream",
          "text": [
            "{'Data': ['11/12/2021', '11/12/2021', '11/12/2021', '12/12/2021', '10/12/2021', '12/12/2021', '09/12/2021', '11/12/2021', '11/12/2021', '10/12/2021', '11/12/2021', '09/12/2021', '10/12/2021', '11/12/2021', '11/12/2021', '11/12/2021', '11/12/2021', '09/12/2021', '10/12/2021', '11/12/2021'], 'Hora': ['10:30', '11:00', '12:15', '12:00', '08:30', '12:00', '10:00', '15:00', '12:00', '08:30', '09:00', '13:00', '11:30', '09:45', '09:45', '09:45', '09:45', '09:00', '00:00', '12:00'], 'País': ['South Africa', 'France', 'Spain', 'South Africa', 'Iran', 'Romania', 'Zambia', 'France', 'Scotland', 'Iran', 'Serbia', 'Ivory Coast', 'Iran', 'Greece', 'Greece', 'Greece', 'Greece', 'Kenya', 'Mexico', 'Spain'], 'Campeonato': ['Premier Soccer League', 'Ligue 2', 'La Liga', 'Premier Soccer League', 'Persian Gulf Pro League', 'Liga I', 'Super League', 'Ligue 2', 'Premiership', 'Persian Gulf Pro League', 'Prva Liga', 'Ivory Coast Ligue 1', 'Persian Gulf Pro League', 'Super League 2', 'Super League 2', 'Super League 2', 'Super League 2', 'Kenyan Premier League', 'Liga MX', 'Segunda División'], 'Mandante': ['Chippa United', 'Le Havre', 'Deportivo Alavés', 'Maritzburg United', 'Naft Masjed Soleyman', 'Sepsi', 'Zanaco', 'Bastia', 'St. Johnstone', 'Mes Rafsanjan', 'Loznica', 'ASEC Mimosas', 'Foolad', 'Episkopi', 'Kalamata', 'Rodos', 'Thesprotos', 'Bandari', 'León', 'Burgos CF'], 'Visitante': ['AmaZulu', 'Ajaccio', 'Getafe CF', 'Stellenbosch', 'Zob Ahan', 'SSC Farul', 'Chambishi', 'Sochaux', 'Aberdeen', 'Tractor Sazi', 'Javor Ivanjica', 'Bouaké', 'Nassaji Mazandaran', 'OF Ierapetra', 'Diagoras', 'Kallithea', 'Niki Volos', 'KCB', 'Atlas', 'CF Fuenlabrada'], 'Pontos por Jogo Mandante': ['0,67', '1,78', '1,13', '1,33', '0,33', '1,11', '1,50', '1,50', '0,75', '2,00', '1,89', '3,00', '1,75', '0,33', '1,50', '3,00', '3,00', '2,25', '1,67', '1,89'], 'Pontos por Jogo Visitante': ['1,27', '1,88', '0,69', '1,47', '1,25', '1,61', '0,86', '1,82', '1,24', '1,00', '1,95', '3,00', '1,13', '0,40', '1,33', '2,25', '1,50', '2,00', '1,62', '1,00'], 'Média de Gols do Confronto': ['1,73', '1,66', '1,82', '1,66', '1,29', '1,89', '1,22', '1,69', '2,57', '1,50', '2,11', '1,50', '1,88', '2,17', '2,25', '2,59', '2,50', '2,63', '1,91', '1,73'], '% BTTS': ['45', '35', '32', '37', '13', '45', '23', '44', '69', '25', '47', '50', '50', '42', '42', '25', '0', '50', '31', '28'], '% Over 0.5 FT': ['67', '83', '88', '92', '71', '78', '69', '69', '94', '63', '85', '50', '75', '100', '84', '100', '67', '100', '85', '78']}\n"
          ]
        }
      ],
      "source": [
        "dic = {}\n",
        "for coluna in colunas:\n",
        "    dic[coluna] = []\n",
        "    for i in range(20):\n",
        "        dic[coluna].append(valores[i])\n",
        "    valores = valores[20:]\n",
        "\n",
        "print(dic)"
      ]
    },
    {
      "cell_type": "code",
      "execution_count": null,
      "metadata": {
        "id": "LfsGsJHU5xbq",
        "outputId": "8b34cf20-82a3-42c8-8b6a-cac391c849d0"
      },
      "outputs": [
        {
          "data": {
            "text/html": [
              "<div>\n",
              "<style scoped>\n",
              "    .dataframe tbody tr th:only-of-type {\n",
              "        vertical-align: middle;\n",
              "    }\n",
              "\n",
              "    .dataframe tbody tr th {\n",
              "        vertical-align: top;\n",
              "    }\n",
              "\n",
              "    .dataframe thead th {\n",
              "        text-align: right;\n",
              "    }\n",
              "</style>\n",
              "<table border=\"1\" class=\"dataframe\">\n",
              "  <thead>\n",
              "    <tr style=\"text-align: right;\">\n",
              "      <th></th>\n",
              "      <th>Data</th>\n",
              "      <th>Hora</th>\n",
              "      <th>País</th>\n",
              "      <th>Campeonato</th>\n",
              "      <th>Mandante</th>\n",
              "      <th>Visitante</th>\n",
              "      <th>Pontos por Jogo Mandante</th>\n",
              "      <th>Pontos por Jogo Visitante</th>\n",
              "      <th>Média de Gols do Confronto</th>\n",
              "      <th>% BTTS</th>\n",
              "      <th>% Over 0.5 FT</th>\n",
              "    </tr>\n",
              "  </thead>\n",
              "  <tbody>\n",
              "    <tr>\n",
              "      <th>0</th>\n",
              "      <td>11/12/2021</td>\n",
              "      <td>10:30</td>\n",
              "      <td>South Africa</td>\n",
              "      <td>Premier Soccer League</td>\n",
              "      <td>Chippa United</td>\n",
              "      <td>AmaZulu</td>\n",
              "      <td>0,67</td>\n",
              "      <td>1,27</td>\n",
              "      <td>1,73</td>\n",
              "      <td>45</td>\n",
              "      <td>67</td>\n",
              "    </tr>\n",
              "    <tr>\n",
              "      <th>1</th>\n",
              "      <td>11/12/2021</td>\n",
              "      <td>11:00</td>\n",
              "      <td>France</td>\n",
              "      <td>Ligue 2</td>\n",
              "      <td>Le Havre</td>\n",
              "      <td>Ajaccio</td>\n",
              "      <td>1,78</td>\n",
              "      <td>1,88</td>\n",
              "      <td>1,66</td>\n",
              "      <td>35</td>\n",
              "      <td>83</td>\n",
              "    </tr>\n",
              "    <tr>\n",
              "      <th>2</th>\n",
              "      <td>11/12/2021</td>\n",
              "      <td>12:15</td>\n",
              "      <td>Spain</td>\n",
              "      <td>La Liga</td>\n",
              "      <td>Deportivo Alavés</td>\n",
              "      <td>Getafe CF</td>\n",
              "      <td>1,13</td>\n",
              "      <td>0,69</td>\n",
              "      <td>1,82</td>\n",
              "      <td>32</td>\n",
              "      <td>88</td>\n",
              "    </tr>\n",
              "    <tr>\n",
              "      <th>3</th>\n",
              "      <td>12/12/2021</td>\n",
              "      <td>12:00</td>\n",
              "      <td>South Africa</td>\n",
              "      <td>Premier Soccer League</td>\n",
              "      <td>Maritzburg United</td>\n",
              "      <td>Stellenbosch</td>\n",
              "      <td>1,33</td>\n",
              "      <td>1,47</td>\n",
              "      <td>1,66</td>\n",
              "      <td>37</td>\n",
              "      <td>92</td>\n",
              "    </tr>\n",
              "    <tr>\n",
              "      <th>4</th>\n",
              "      <td>10/12/2021</td>\n",
              "      <td>08:30</td>\n",
              "      <td>Iran</td>\n",
              "      <td>Persian Gulf Pro League</td>\n",
              "      <td>Naft Masjed Soleyman</td>\n",
              "      <td>Zob Ahan</td>\n",
              "      <td>0,33</td>\n",
              "      <td>1,25</td>\n",
              "      <td>1,29</td>\n",
              "      <td>13</td>\n",
              "      <td>71</td>\n",
              "    </tr>\n",
              "    <tr>\n",
              "      <th>5</th>\n",
              "      <td>12/12/2021</td>\n",
              "      <td>12:00</td>\n",
              "      <td>Romania</td>\n",
              "      <td>Liga I</td>\n",
              "      <td>Sepsi</td>\n",
              "      <td>SSC Farul</td>\n",
              "      <td>1,11</td>\n",
              "      <td>1,61</td>\n",
              "      <td>1,89</td>\n",
              "      <td>45</td>\n",
              "      <td>78</td>\n",
              "    </tr>\n",
              "    <tr>\n",
              "      <th>6</th>\n",
              "      <td>09/12/2021</td>\n",
              "      <td>10:00</td>\n",
              "      <td>Zambia</td>\n",
              "      <td>Super League</td>\n",
              "      <td>Zanaco</td>\n",
              "      <td>Chambishi</td>\n",
              "      <td>1,50</td>\n",
              "      <td>0,86</td>\n",
              "      <td>1,22</td>\n",
              "      <td>23</td>\n",
              "      <td>69</td>\n",
              "    </tr>\n",
              "    <tr>\n",
              "      <th>7</th>\n",
              "      <td>11/12/2021</td>\n",
              "      <td>15:00</td>\n",
              "      <td>France</td>\n",
              "      <td>Ligue 2</td>\n",
              "      <td>Bastia</td>\n",
              "      <td>Sochaux</td>\n",
              "      <td>1,50</td>\n",
              "      <td>1,82</td>\n",
              "      <td>1,69</td>\n",
              "      <td>44</td>\n",
              "      <td>69</td>\n",
              "    </tr>\n",
              "    <tr>\n",
              "      <th>8</th>\n",
              "      <td>11/12/2021</td>\n",
              "      <td>12:00</td>\n",
              "      <td>Scotland</td>\n",
              "      <td>Premiership</td>\n",
              "      <td>St. Johnstone</td>\n",
              "      <td>Aberdeen</td>\n",
              "      <td>0,75</td>\n",
              "      <td>1,24</td>\n",
              "      <td>2,57</td>\n",
              "      <td>69</td>\n",
              "      <td>94</td>\n",
              "    </tr>\n",
              "    <tr>\n",
              "      <th>9</th>\n",
              "      <td>10/12/2021</td>\n",
              "      <td>08:30</td>\n",
              "      <td>Iran</td>\n",
              "      <td>Persian Gulf Pro League</td>\n",
              "      <td>Mes Rafsanjan</td>\n",
              "      <td>Tractor Sazi</td>\n",
              "      <td>2,00</td>\n",
              "      <td>1,00</td>\n",
              "      <td>1,50</td>\n",
              "      <td>25</td>\n",
              "      <td>63</td>\n",
              "    </tr>\n",
              "    <tr>\n",
              "      <th>10</th>\n",
              "      <td>11/12/2021</td>\n",
              "      <td>09:00</td>\n",
              "      <td>Serbia</td>\n",
              "      <td>Prva Liga</td>\n",
              "      <td>Loznica</td>\n",
              "      <td>Javor Ivanjica</td>\n",
              "      <td>1,89</td>\n",
              "      <td>1,95</td>\n",
              "      <td>2,11</td>\n",
              "      <td>47</td>\n",
              "      <td>85</td>\n",
              "    </tr>\n",
              "    <tr>\n",
              "      <th>11</th>\n",
              "      <td>09/12/2021</td>\n",
              "      <td>13:00</td>\n",
              "      <td>Ivory Coast</td>\n",
              "      <td>Ivory Coast Ligue 1</td>\n",
              "      <td>ASEC Mimosas</td>\n",
              "      <td>Bouaké</td>\n",
              "      <td>3,00</td>\n",
              "      <td>3,00</td>\n",
              "      <td>1,50</td>\n",
              "      <td>50</td>\n",
              "      <td>50</td>\n",
              "    </tr>\n",
              "    <tr>\n",
              "      <th>12</th>\n",
              "      <td>10/12/2021</td>\n",
              "      <td>11:30</td>\n",
              "      <td>Iran</td>\n",
              "      <td>Persian Gulf Pro League</td>\n",
              "      <td>Foolad</td>\n",
              "      <td>Nassaji Mazandaran</td>\n",
              "      <td>1,75</td>\n",
              "      <td>1,13</td>\n",
              "      <td>1,88</td>\n",
              "      <td>50</td>\n",
              "      <td>75</td>\n",
              "    </tr>\n",
              "    <tr>\n",
              "      <th>13</th>\n",
              "      <td>11/12/2021</td>\n",
              "      <td>09:45</td>\n",
              "      <td>Greece</td>\n",
              "      <td>Super League 2</td>\n",
              "      <td>Episkopi</td>\n",
              "      <td>OF Ierapetra</td>\n",
              "      <td>0,33</td>\n",
              "      <td>0,40</td>\n",
              "      <td>2,17</td>\n",
              "      <td>42</td>\n",
              "      <td>100</td>\n",
              "    </tr>\n",
              "    <tr>\n",
              "      <th>14</th>\n",
              "      <td>11/12/2021</td>\n",
              "      <td>09:45</td>\n",
              "      <td>Greece</td>\n",
              "      <td>Super League 2</td>\n",
              "      <td>Kalamata</td>\n",
              "      <td>Diagoras</td>\n",
              "      <td>1,50</td>\n",
              "      <td>1,33</td>\n",
              "      <td>2,25</td>\n",
              "      <td>42</td>\n",
              "      <td>84</td>\n",
              "    </tr>\n",
              "    <tr>\n",
              "      <th>15</th>\n",
              "      <td>11/12/2021</td>\n",
              "      <td>09:45</td>\n",
              "      <td>Greece</td>\n",
              "      <td>Super League 2</td>\n",
              "      <td>Rodos</td>\n",
              "      <td>Kallithea</td>\n",
              "      <td>3,00</td>\n",
              "      <td>2,25</td>\n",
              "      <td>2,59</td>\n",
              "      <td>25</td>\n",
              "      <td>100</td>\n",
              "    </tr>\n",
              "    <tr>\n",
              "      <th>16</th>\n",
              "      <td>11/12/2021</td>\n",
              "      <td>09:45</td>\n",
              "      <td>Greece</td>\n",
              "      <td>Super League 2</td>\n",
              "      <td>Thesprotos</td>\n",
              "      <td>Niki Volos</td>\n",
              "      <td>3,00</td>\n",
              "      <td>1,50</td>\n",
              "      <td>2,50</td>\n",
              "      <td>0</td>\n",
              "      <td>67</td>\n",
              "    </tr>\n",
              "    <tr>\n",
              "      <th>17</th>\n",
              "      <td>09/12/2021</td>\n",
              "      <td>09:00</td>\n",
              "      <td>Kenya</td>\n",
              "      <td>Kenyan Premier League</td>\n",
              "      <td>Bandari</td>\n",
              "      <td>KCB</td>\n",
              "      <td>2,25</td>\n",
              "      <td>2,00</td>\n",
              "      <td>2,63</td>\n",
              "      <td>50</td>\n",
              "      <td>100</td>\n",
              "    </tr>\n",
              "    <tr>\n",
              "      <th>18</th>\n",
              "      <td>10/12/2021</td>\n",
              "      <td>00:00</td>\n",
              "      <td>Mexico</td>\n",
              "      <td>Liga MX</td>\n",
              "      <td>León</td>\n",
              "      <td>Atlas</td>\n",
              "      <td>1,67</td>\n",
              "      <td>1,62</td>\n",
              "      <td>1,91</td>\n",
              "      <td>31</td>\n",
              "      <td>85</td>\n",
              "    </tr>\n",
              "    <tr>\n",
              "      <th>19</th>\n",
              "      <td>11/12/2021</td>\n",
              "      <td>12:00</td>\n",
              "      <td>Spain</td>\n",
              "      <td>Segunda División</td>\n",
              "      <td>Burgos CF</td>\n",
              "      <td>CF Fuenlabrada</td>\n",
              "      <td>1,89</td>\n",
              "      <td>1,00</td>\n",
              "      <td>1,73</td>\n",
              "      <td>28</td>\n",
              "      <td>78</td>\n",
              "    </tr>\n",
              "  </tbody>\n",
              "</table>\n",
              "</div>"
            ],
            "text/plain": [
              "          Data   Hora          País               Campeonato  \\\n",
              "0   11/12/2021  10:30  South Africa    Premier Soccer League   \n",
              "1   11/12/2021  11:00        France                  Ligue 2   \n",
              "2   11/12/2021  12:15         Spain                  La Liga   \n",
              "3   12/12/2021  12:00  South Africa    Premier Soccer League   \n",
              "4   10/12/2021  08:30          Iran  Persian Gulf Pro League   \n",
              "5   12/12/2021  12:00       Romania                   Liga I   \n",
              "6   09/12/2021  10:00        Zambia             Super League   \n",
              "7   11/12/2021  15:00        France                  Ligue 2   \n",
              "8   11/12/2021  12:00      Scotland              Premiership   \n",
              "9   10/12/2021  08:30          Iran  Persian Gulf Pro League   \n",
              "10  11/12/2021  09:00        Serbia                Prva Liga   \n",
              "11  09/12/2021  13:00   Ivory Coast      Ivory Coast Ligue 1   \n",
              "12  10/12/2021  11:30          Iran  Persian Gulf Pro League   \n",
              "13  11/12/2021  09:45        Greece           Super League 2   \n",
              "14  11/12/2021  09:45        Greece           Super League 2   \n",
              "15  11/12/2021  09:45        Greece           Super League 2   \n",
              "16  11/12/2021  09:45        Greece           Super League 2   \n",
              "17  09/12/2021  09:00         Kenya    Kenyan Premier League   \n",
              "18  10/12/2021  00:00        Mexico                  Liga MX   \n",
              "19  11/12/2021  12:00         Spain         Segunda División   \n",
              "\n",
              "                Mandante           Visitante Pontos por Jogo Mandante  \\\n",
              "0          Chippa United             AmaZulu                     0,67   \n",
              "1               Le Havre             Ajaccio                     1,78   \n",
              "2       Deportivo Alavés           Getafe CF                     1,13   \n",
              "3      Maritzburg United        Stellenbosch                     1,33   \n",
              "4   Naft Masjed Soleyman            Zob Ahan                     0,33   \n",
              "5                  Sepsi           SSC Farul                     1,11   \n",
              "6                 Zanaco           Chambishi                     1,50   \n",
              "7                 Bastia             Sochaux                     1,50   \n",
              "8          St. Johnstone            Aberdeen                     0,75   \n",
              "9          Mes Rafsanjan        Tractor Sazi                     2,00   \n",
              "10               Loznica      Javor Ivanjica                     1,89   \n",
              "11          ASEC Mimosas              Bouaké                     3,00   \n",
              "12                Foolad  Nassaji Mazandaran                     1,75   \n",
              "13              Episkopi        OF Ierapetra                     0,33   \n",
              "14              Kalamata            Diagoras                     1,50   \n",
              "15                 Rodos           Kallithea                     3,00   \n",
              "16            Thesprotos          Niki Volos                     3,00   \n",
              "17               Bandari                 KCB                     2,25   \n",
              "18                  León               Atlas                     1,67   \n",
              "19             Burgos CF      CF Fuenlabrada                     1,89   \n",
              "\n",
              "   Pontos por Jogo Visitante Média de Gols do Confronto % BTTS % Over 0.5 FT  \n",
              "0                       1,27                       1,73     45            67  \n",
              "1                       1,88                       1,66     35            83  \n",
              "2                       0,69                       1,82     32            88  \n",
              "3                       1,47                       1,66     37            92  \n",
              "4                       1,25                       1,29     13            71  \n",
              "5                       1,61                       1,89     45            78  \n",
              "6                       0,86                       1,22     23            69  \n",
              "7                       1,82                       1,69     44            69  \n",
              "8                       1,24                       2,57     69            94  \n",
              "9                       1,00                       1,50     25            63  \n",
              "10                      1,95                       2,11     47            85  \n",
              "11                      3,00                       1,50     50            50  \n",
              "12                      1,13                       1,88     50            75  \n",
              "13                      0,40                       2,17     42           100  \n",
              "14                      1,33                       2,25     42            84  \n",
              "15                      2,25                       2,59     25           100  \n",
              "16                      1,50                       2,50      0            67  \n",
              "17                      2,00                       2,63     50           100  \n",
              "18                      1,62                       1,91     31            85  \n",
              "19                      1,00                       1,73     28            78  "
            ]
          },
          "metadata": {},
          "output_type": "display_data"
        }
      ],
      "source": [
        "import pandas as pd\n",
        "\n",
        "df_tabela = pd.DataFrame.from_dict(dic)\n",
        "display(df_tabela)"
      ]
    },
    {
      "cell_type": "markdown",
      "metadata": {
        "id": "eP79a6qs5xbq"
      },
      "source": [
        "### Dar scroll na tela de um iframe"
      ]
    },
    {
      "cell_type": "code",
      "execution_count": null,
      "metadata": {
        "id": "kH8Byt0L5xbr"
      },
      "outputs": [],
      "source": [
        "#print(driver.execute_script(\"document.getElementsByClassName('bodyCells').scrollHeight\"))\n",
        "#print(tam)\n",
        "\n",
        "for i in range(300):\n",
        "    t = i * 250\n",
        "    driver.execute_script(f\"document.getElementsByClassName('bodyCells')[0].scroll(0, {t})\")\n",
        "    time.sleep(0.5)\n"
      ]
    },
    {
      "cell_type": "code",
      "execution_count": null,
      "metadata": {
        "id": "mN7X1iHt5xbr"
      },
      "outputs": [],
      "source": [
        "#import pandas as pd\n",
        "\n",
        "# Código para dar scroll em um elemento de acordo com a classe dele:\n",
        "for i in range(300):\n",
        "    t = i * 250\n",
        "    driver.execute_script(f\"document.getElementsByClassName('bodyCells')[0].scroll(0, {t})\")\n",
        "    time.sleep(0.5)\n",
        "    \n",
        "    print('1')\n",
        "    tabela = driver.find_element_by_class_name('innerContainer').text\n",
        "    #print(tabela)\n",
        "\n",
        "    lista = tabela.split('\\n')\n",
        "    colunas = lista[:11]\n",
        "    valores = lista[11:]    \n",
        "    \n",
        "    dic = {}\n",
        "    for coluna in colunas:\n",
        "        dic[coluna] = []\n",
        "        for i in range(20):\n",
        "            dic[coluna].append(valores[i])\n",
        "        valores = valores[20:]\n",
        " \n",
        "    df_tabela_aux = pd.DataFrame.from_dict(dic)\n",
        "    df_tabela = df_tabela.append(df_tabela_aux)\n",
        "    \n",
        "display(df_tabela)"
      ]
    },
    {
      "cell_type": "code",
      "execution_count": null,
      "metadata": {
        "id": "YqFYT5ui5xbr"
      },
      "outputs": [],
      "source": [
        "#remover duplicados\n",
        "df_tabela = df_tabela.drop_duplicates()\n",
        "\n",
        "#exportar para arquivo\n",
        "df_tabela.to_excel('tabela.xlsx')\n"
      ]
    },
    {
      "cell_type": "markdown",
      "metadata": {
        "id": "WwhdG2Z_5xbr"
      },
      "source": [
        "### Descompactando arquivos"
      ]
    },
    {
      "cell_type": "code",
      "execution_count": null,
      "metadata": {
        "id": "QzzeJCej5xbr"
      },
      "outputs": [],
      "source": [
        "import zipfile\n",
        "with zipfile.ZipFile(path_to_zip_file, 'r') as zip_ref:\n",
        "    zip_ref.extractall(directory_to_extract_to)"
      ]
    },
    {
      "cell_type": "code",
      "execution_count": null,
      "metadata": {
        "id": "HUy3nAx55xbs"
      },
      "outputs": [],
      "source": [
        "### exercício automação acessar site\\baixar arquivo\\descompactar\\manipular\\extrair\\enviar email"
      ]
    },
    {
      "cell_type": "markdown",
      "metadata": {
        "id": "NX5583Z65xbs"
      },
      "source": [
        "#API E JSON"
      ]
    },
    {
      "cell_type": "code",
      "execution_count": null,
      "metadata": {
        "colab": {
          "base_uri": "https://localhost:8080/",
          "height": 1000
        },
        "id": "OgIJtC_n5xbs",
        "outputId": "ff1b85f3-21b0-45d3-dd69-51a3578c7fe3"
      },
      "outputs": [
        {
          "output_type": "stream",
          "name": "stdout",
          "text": [
            "5.6712\n"
          ]
        },
        {
          "output_type": "display_data",
          "data": {
            "text/plain": [
              "{'ARS': {'ask': '0.0557',\n",
              "  'bid': '0.0556',\n",
              "  'code': 'ARS',\n",
              "  'codein': 'BRL',\n",
              "  'create_date': '2021-12-16 16:14:51',\n",
              "  'high': '0.0562',\n",
              "  'low': '0.0555',\n",
              "  'name': 'Peso Argentino/Real Brasileiro',\n",
              "  'pctChange': '-0.27',\n",
              "  'timestamp': '1639682091',\n",
              "  'varBid': '-0.0002'},\n",
              " 'AUD': {'ask': '4.0719',\n",
              "  'bid': '4.07',\n",
              "  'code': 'AUD',\n",
              "  'codein': 'BRL',\n",
              "  'create_date': '2021-12-16 16:14:48',\n",
              "  'high': '4.1184',\n",
              "  'low': '4.0595',\n",
              "  'name': 'Dólar Australiano/Real Brasileiro',\n",
              "  'pctChange': '-0.01',\n",
              "  'timestamp': '1639682088',\n",
              "  'varBid': '-0.0004'},\n",
              " 'BTC': {'ask': '274.123',\n",
              "  'bid': '274.123',\n",
              "  'code': 'BTC',\n",
              "  'codein': 'BRL',\n",
              "  'create_date': '2021-12-16 16:14:19',\n",
              "  'high': '283',\n",
              "  'low': '272.604',\n",
              "  'name': 'Bitcoin/Real Brasileiro',\n",
              "  'pctChange': '-0.19',\n",
              "  'timestamp': '1639682059',\n",
              "  'varBid': '-515'},\n",
              " 'CAD': {'ask': '4.4388',\n",
              "  'bid': '4.437',\n",
              "  'code': 'CAD',\n",
              "  'codein': 'BRL',\n",
              "  'create_date': '2021-12-16 16:14:50',\n",
              "  'high': '4.4732',\n",
              "  'low': '4.4181',\n",
              "  'name': 'Dólar Canadense/Real Brasileiro',\n",
              "  'pctChange': '0.26',\n",
              "  'timestamp': '1639682090',\n",
              "  'varBid': '0.0117'},\n",
              " 'CHF': {'ask': '6.1659',\n",
              "  'bid': '6.1632',\n",
              "  'code': 'CHF',\n",
              "  'codein': 'BRL',\n",
              "  'create_date': '2021-12-16 16:14:50',\n",
              "  'high': '6.214',\n",
              "  'low': '6.1239',\n",
              "  'name': 'Franco Suíço/Real Brasileiro',\n",
              "  'pctChange': '0.39',\n",
              "  'timestamp': '1639682090',\n",
              "  'varBid': '0.024'},\n",
              " 'CNY': {'ask': '0.8907',\n",
              "  'bid': '0.8905',\n",
              "  'code': 'CNY',\n",
              "  'codein': 'BRL',\n",
              "  'create_date': '2021-12-16 16:14:03',\n",
              "  'high': '0.8987',\n",
              "  'low': '0.8888',\n",
              "  'name': 'Yuan Chinês/Real Brasileiro',\n",
              "  'pctChange': '-0.85',\n",
              "  'timestamp': '1639682043',\n",
              "  'varBid': '-0.0076'},\n",
              " 'DOGE': {'ask': '1',\n",
              "  'bid': '1',\n",
              "  'code': 'DOGE',\n",
              "  'codein': 'BRL',\n",
              "  'create_date': '2021-12-16 16:14:04',\n",
              "  'high': '1.05',\n",
              "  'low': '1',\n",
              "  'name': 'Dogecoin/Real Brasileiro',\n",
              "  'pctChange': '0',\n",
              "  'timestamp': '1639682044',\n",
              "  'varBid': '0'},\n",
              " 'ETH': {'ask': '16999.75',\n",
              "  'bid': '1440.25',\n",
              "  'code': 'ETH',\n",
              "  'codein': 'BRL',\n",
              "  'create_date': '2021-01-11 22:40:52',\n",
              "  'high': '1200.21',\n",
              "  'low': '1200.21',\n",
              "  'name': 'Ethereum/Real Brasileiro',\n",
              "  'pctChange': '0',\n",
              "  'timestamp': '1610415652',\n",
              "  'varBid': '0'},\n",
              " 'EUR': {'ask': '6.4215',\n",
              "  'bid': '6.4189',\n",
              "  'code': 'EUR',\n",
              "  'codein': 'BRL',\n",
              "  'create_date': '2021-12-16 16:14:48',\n",
              "  'high': '6.4841',\n",
              "  'low': '6.3999',\n",
              "  'name': 'Euro/Real Brasileiro',\n",
              "  'pctChange': '0.15',\n",
              "  'timestamp': '1639682088',\n",
              "  'varBid': '0.0096'},\n",
              " 'GBP': {'ask': '7.55',\n",
              "  'bid': '7.5478',\n",
              "  'code': 'GBP',\n",
              "  'codein': 'BRL',\n",
              "  'create_date': '2021-12-16 16:14:51',\n",
              "  'high': '7.6283',\n",
              "  'low': '7.5223',\n",
              "  'name': 'Libra Esterlina/Real Brasileiro',\n",
              "  'pctChange': '0.2',\n",
              "  'timestamp': '1639682091',\n",
              "  'varBid': '0.0147'},\n",
              " 'ILS': {'ask': '1.828',\n",
              "  'bid': '1.8276',\n",
              "  'code': 'ILS',\n",
              "  'codein': 'BRL',\n",
              "  'create_date': '2021-12-16 16:14:05',\n",
              "  'high': '1.8467',\n",
              "  'low': '1.8187',\n",
              "  'name': 'Novo Shekel Israelense/Real Brasileiro',\n",
              "  'pctChange': '0.02',\n",
              "  'timestamp': '1639682045',\n",
              "  'varBid': '0.0004'},\n",
              " 'JPY': {'ask': '0.04991',\n",
              "  'bid': '0.04988',\n",
              "  'code': 'JPY',\n",
              "  'codein': 'BRL',\n",
              "  'create_date': '2021-12-16 16:14:45',\n",
              "  'high': '0.05036',\n",
              "  'low': '0.04964',\n",
              "  'name': 'Iene Japonês/Real Brasileiro',\n",
              "  'pctChange': '0.2',\n",
              "  'timestamp': '1639682085',\n",
              "  'varBid': '0.0001'},\n",
              " 'LTC': {'ask': '873.41',\n",
              "  'bid': '872.8',\n",
              "  'code': 'LTC',\n",
              "  'codein': 'BRL',\n",
              "  'create_date': '2021-12-16 16:14:53',\n",
              "  'high': '894.99',\n",
              "  'low': '857.25',\n",
              "  'name': 'Litecoin/Real Brasileiro',\n",
              "  'pctChange': '3.38',\n",
              "  'timestamp': '1639682093',\n",
              "  'varBid': '28.53'},\n",
              " 'USD': {'ask': '5.6724',\n",
              "  'bid': '5.6712',\n",
              "  'code': 'USD',\n",
              "  'codein': 'BRL',\n",
              "  'create_date': '2021-12-16 16:14:51',\n",
              "  'high': '5.7231',\n",
              "  'low': '5.6599',\n",
              "  'name': 'Dólar Americano/Real Brasileiro',\n",
              "  'pctChange': '-0.15',\n",
              "  'timestamp': '1639682091',\n",
              "  'varBid': '-0.0088'},\n",
              " 'USDT': {'ask': '5.98',\n",
              "  'bid': '5.64',\n",
              "  'code': 'USD',\n",
              "  'codein': 'BRLT',\n",
              "  'create_date': '2021-12-16 15:55:00',\n",
              "  'high': '5.87',\n",
              "  'low': '5.8',\n",
              "  'name': 'Dólar Americano/Real Brasileiro Turismo',\n",
              "  'pctChange': '-1.02',\n",
              "  'timestamp': '1639680900',\n",
              "  'varBid': '-0.06'},\n",
              " 'XRP': {'ask': '4.67',\n",
              "  'bid': '4.67',\n",
              "  'code': 'XRP',\n",
              "  'codein': 'BRL',\n",
              "  'create_date': '2021-12-16 16:14:25',\n",
              "  'high': '4.8',\n",
              "  'low': '4.65',\n",
              "  'name': 'XRP/Real Brasileiro',\n",
              "  'pctChange': '1.11',\n",
              "  'timestamp': '1639682065',\n",
              "  'varBid': '0.05'}}"
            ]
          },
          "metadata": {}
        }
      ],
      "source": [
        "import requests\n",
        "import json\n",
        "import pandas as pd\n",
        "\n",
        "#cotacao_dic = pd.DataFrame.from_dict(requests.get('https://economia.awesomeapi.com.br/json/all').json())\n",
        "cotacao_dic = requests.get('https://economia.awesomeapi.com.br/json/all').json()\n",
        "#cotacao_dic = cotacao.json()\n",
        "\n",
        "print(cotacao_dic['USD']['bid'])\n",
        "display(cotacao_dic)"
      ]
    },
    {
      "cell_type": "code",
      "source": [
        "import matplotlib.pyplot as plt\n",
        "import requests\n",
        "import json\n",
        "\n",
        "cotacao_bitc = requests.get('https://economia.awesomeapi.com.br/BTC-BRL/100?start_date=20211001&end_date=20211216').json()\n",
        "#cotacao_bitc = requests.get('https://economia.awesomeapi.com.br/json/daily/BTC-BRL/16').json()\n",
        "#cotacao_bitc = cotação_bitc\n",
        "cotacao_bitc = [item['bid'] for item in cotacao_bitc]\n",
        "cotacao_bitc.reverse()\n",
        "print(cotacao_bitc)\n",
        "\n",
        "plt.figure(figsize=(15,15))\n",
        "plt.plot(cotacao_bitc, linewidth=2.0,color='Blue')\n",
        "#plt.plot(meses,vendas_meses1, linewidth=2.0,color='Red')\n",
        "#plt.bar(meses,vendas_meses)\n",
        "#plt.xlabel('Meses')\n",
        "plt.ylabel('Variação')\n",
        "#plt.axis([0,12,200000,500000])\n",
        "#plt.axis([0,12,200000,500000])\n",
        "plt.show"
      ],
      "metadata": {
        "id": "u3M4hxidqpz8"
      },
      "execution_count": null,
      "outputs": []
    }
  ],
  "metadata": {
    "colab": {
      "collapsed_sections": [],
      "name": "GERAL-COMPLETO.ipynb",
      "provenance": [],
      "toc_visible": true
    },
    "kernelspec": {
      "display_name": "Python 3",
      "language": "python",
      "name": "python3"
    },
    "language_info": {
      "codemirror_mode": {
        "name": "ipython",
        "version": 3
      },
      "file_extension": ".py",
      "mimetype": "text/x-python",
      "name": "python",
      "nbconvert_exporter": "python",
      "pygments_lexer": "ipython3",
      "version": "3.8.8"
    }
  },
  "nbformat": 4,
  "nbformat_minor": 0
}